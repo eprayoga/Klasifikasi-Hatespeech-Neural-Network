{
  "nbformat": 4,
  "nbformat_minor": 0,
  "metadata": {
    "colab": {
      "provenance": [],
      "authorship_tag": "ABX9TyP7KsAopOEpurD4oJq8dL3O",
      "include_colab_link": true
    },
    "kernelspec": {
      "name": "python3",
      "display_name": "Python 3"
    },
    "language_info": {
      "name": "python"
    }
  },
  "cells": [
    {
      "cell_type": "markdown",
      "metadata": {
        "id": "view-in-github",
        "colab_type": "text"
      },
      "source": [
        "<a href=\"https://colab.research.google.com/github/eprayoga/Klasifikasi-Hatespeech-Neural-Network/blob/main/KlasifikasiHateSpeechNeuralNetwork.ipynb\" target=\"_parent\"><img src=\"https://colab.research.google.com/assets/colab-badge.svg\" alt=\"Open In Colab\"/></a>"
      ]
    },
    {
      "cell_type": "markdown",
      "source": [
        "# Memanggil Dataset\n",
        "referensi dataset diambil dari hasil penelitian, yaitu oleh\n",
        "Ika Alfina, Rio Mulia, Mohamad Ivan Fanany, and Yudo Ekanata, \"Hate Speech Detection in Indonesian Language: A Dataset and Preliminary Study \", in Proceeding of 9th International Conference on Advanced Computer Science and Information Systems 2017(ICACSIS 2017).\n"
      ],
      "metadata": {
        "id": "EP6e9K2EPW1f"
      }
    },
    {
      "cell_type": "code",
      "execution_count": 46,
      "metadata": {
        "id": "zu-QKpMBJvJe",
        "colab": {
          "base_uri": "https://localhost:8080/",
          "height": 206
        },
        "outputId": "954909a7-c9c3-45d4-c851-0727d2229e54"
      },
      "outputs": [
        {
          "output_type": "execute_result",
          "data": {
            "text/plain": [
              "    Label                                              Tweet\n",
              "0  Non_HS  RT @spardaxyz: Fadli Zon Minta Mendagri Segera...\n",
              "1  Non_HS  RT @baguscondromowo: Mereka terus melukai aksi...\n",
              "2  Non_HS  Sylvi: bagaimana gurbernur melakukan kekerasan...\n",
              "3  Non_HS  Ahmad Dhani Tak Puas Debat Pilkada, Masalah Ja...\n",
              "4  Non_HS  RT @lisdaulay28: Waspada KTP palsu.....kawal P..."
            ],
            "text/html": [
              "\n",
              "  <div id=\"df-fc3eeaa2-b346-4662-bc60-779370c8ecf1\">\n",
              "    <div class=\"colab-df-container\">\n",
              "      <div>\n",
              "<style scoped>\n",
              "    .dataframe tbody tr th:only-of-type {\n",
              "        vertical-align: middle;\n",
              "    }\n",
              "\n",
              "    .dataframe tbody tr th {\n",
              "        vertical-align: top;\n",
              "    }\n",
              "\n",
              "    .dataframe thead th {\n",
              "        text-align: right;\n",
              "    }\n",
              "</style>\n",
              "<table border=\"1\" class=\"dataframe\">\n",
              "  <thead>\n",
              "    <tr style=\"text-align: right;\">\n",
              "      <th></th>\n",
              "      <th>Label</th>\n",
              "      <th>Tweet</th>\n",
              "    </tr>\n",
              "  </thead>\n",
              "  <tbody>\n",
              "    <tr>\n",
              "      <th>0</th>\n",
              "      <td>Non_HS</td>\n",
              "      <td>RT @spardaxyz: Fadli Zon Minta Mendagri Segera...</td>\n",
              "    </tr>\n",
              "    <tr>\n",
              "      <th>1</th>\n",
              "      <td>Non_HS</td>\n",
              "      <td>RT @baguscondromowo: Mereka terus melukai aksi...</td>\n",
              "    </tr>\n",
              "    <tr>\n",
              "      <th>2</th>\n",
              "      <td>Non_HS</td>\n",
              "      <td>Sylvi: bagaimana gurbernur melakukan kekerasan...</td>\n",
              "    </tr>\n",
              "    <tr>\n",
              "      <th>3</th>\n",
              "      <td>Non_HS</td>\n",
              "      <td>Ahmad Dhani Tak Puas Debat Pilkada, Masalah Ja...</td>\n",
              "    </tr>\n",
              "    <tr>\n",
              "      <th>4</th>\n",
              "      <td>Non_HS</td>\n",
              "      <td>RT @lisdaulay28: Waspada KTP palsu.....kawal P...</td>\n",
              "    </tr>\n",
              "  </tbody>\n",
              "</table>\n",
              "</div>\n",
              "      <button class=\"colab-df-convert\" onclick=\"convertToInteractive('df-fc3eeaa2-b346-4662-bc60-779370c8ecf1')\"\n",
              "              title=\"Convert this dataframe to an interactive table.\"\n",
              "              style=\"display:none;\">\n",
              "        \n",
              "  <svg xmlns=\"http://www.w3.org/2000/svg\" height=\"24px\"viewBox=\"0 0 24 24\"\n",
              "       width=\"24px\">\n",
              "    <path d=\"M0 0h24v24H0V0z\" fill=\"none\"/>\n",
              "    <path d=\"M18.56 5.44l.94 2.06.94-2.06 2.06-.94-2.06-.94-.94-2.06-.94 2.06-2.06.94zm-11 1L8.5 8.5l.94-2.06 2.06-.94-2.06-.94L8.5 2.5l-.94 2.06-2.06.94zm10 10l.94 2.06.94-2.06 2.06-.94-2.06-.94-.94-2.06-.94 2.06-2.06.94z\"/><path d=\"M17.41 7.96l-1.37-1.37c-.4-.4-.92-.59-1.43-.59-.52 0-1.04.2-1.43.59L10.3 9.45l-7.72 7.72c-.78.78-.78 2.05 0 2.83L4 21.41c.39.39.9.59 1.41.59.51 0 1.02-.2 1.41-.59l7.78-7.78 2.81-2.81c.8-.78.8-2.07 0-2.86zM5.41 20L4 18.59l7.72-7.72 1.47 1.35L5.41 20z\"/>\n",
              "  </svg>\n",
              "      </button>\n",
              "      \n",
              "  <style>\n",
              "    .colab-df-container {\n",
              "      display:flex;\n",
              "      flex-wrap:wrap;\n",
              "      gap: 12px;\n",
              "    }\n",
              "\n",
              "    .colab-df-convert {\n",
              "      background-color: #E8F0FE;\n",
              "      border: none;\n",
              "      border-radius: 50%;\n",
              "      cursor: pointer;\n",
              "      display: none;\n",
              "      fill: #1967D2;\n",
              "      height: 32px;\n",
              "      padding: 0 0 0 0;\n",
              "      width: 32px;\n",
              "    }\n",
              "\n",
              "    .colab-df-convert:hover {\n",
              "      background-color: #E2EBFA;\n",
              "      box-shadow: 0px 1px 2px rgba(60, 64, 67, 0.3), 0px 1px 3px 1px rgba(60, 64, 67, 0.15);\n",
              "      fill: #174EA6;\n",
              "    }\n",
              "\n",
              "    [theme=dark] .colab-df-convert {\n",
              "      background-color: #3B4455;\n",
              "      fill: #D2E3FC;\n",
              "    }\n",
              "\n",
              "    [theme=dark] .colab-df-convert:hover {\n",
              "      background-color: #434B5C;\n",
              "      box-shadow: 0px 1px 3px 1px rgba(0, 0, 0, 0.15);\n",
              "      filter: drop-shadow(0px 1px 2px rgba(0, 0, 0, 0.3));\n",
              "      fill: #FFFFFF;\n",
              "    }\n",
              "  </style>\n",
              "\n",
              "      <script>\n",
              "        const buttonEl =\n",
              "          document.querySelector('#df-fc3eeaa2-b346-4662-bc60-779370c8ecf1 button.colab-df-convert');\n",
              "        buttonEl.style.display =\n",
              "          google.colab.kernel.accessAllowed ? 'block' : 'none';\n",
              "\n",
              "        async function convertToInteractive(key) {\n",
              "          const element = document.querySelector('#df-fc3eeaa2-b346-4662-bc60-779370c8ecf1');\n",
              "          const dataTable =\n",
              "            await google.colab.kernel.invokeFunction('convertToInteractive',\n",
              "                                                     [key], {});\n",
              "          if (!dataTable) return;\n",
              "\n",
              "          const docLinkHtml = 'Like what you see? Visit the ' +\n",
              "            '<a target=\"_blank\" href=https://colab.research.google.com/notebooks/data_table.ipynb>data table notebook</a>'\n",
              "            + ' to learn more about interactive tables.';\n",
              "          element.innerHTML = '';\n",
              "          dataTable['output_type'] = 'display_data';\n",
              "          await google.colab.output.renderOutput(dataTable, element);\n",
              "          const docLink = document.createElement('div');\n",
              "          docLink.innerHTML = docLinkHtml;\n",
              "          element.appendChild(docLink);\n",
              "        }\n",
              "      </script>\n",
              "    </div>\n",
              "  </div>\n",
              "  "
            ]
          },
          "metadata": {},
          "execution_count": 46
        }
      ],
      "source": [
        "import pandas as pd\n",
        "\n",
        "dataset_url = 'https://raw.githubusercontent.com/eprayoga/Klasifikasi-Hatespeech-Neural-Network/main/dataset/id_hatespeech.csv'\n",
        "\n",
        "df = pd.read_csv(dataset_url)\n",
        "df.head()"
      ]
    },
    {
      "cell_type": "code",
      "source": [
        "import seaborn as sns\n",
        "%matplotlib inline\n",
        "sns.set(style='darkgrid')\n",
        "\n",
        "import warnings\n",
        "warnings.filterwarnings('ignore')\n",
        "\n",
        "print(df['Label'].value_counts())\n",
        "print('\\n')\n",
        "print(sns.countplot(df['Label']))"
      ],
      "metadata": {
        "colab": {
          "base_uri": "https://localhost:8080/",
          "height": 397
        },
        "id": "fkw1naCwQN0a",
        "outputId": "5f14ad71-e6d9-45f4-e7df-bc4d5b83e898"
      },
      "execution_count": 47,
      "outputs": [
        {
          "output_type": "stream",
          "name": "stdout",
          "text": [
            "Non_HS    453\n",
            "HS        260\n",
            "Name: Label, dtype: int64\n",
            "\n",
            "\n",
            "AxesSubplot(0.125,0.125;0.775x0.755)\n"
          ]
        },
        {
          "output_type": "display_data",
          "data": {
            "text/plain": [
              "<Figure size 432x288 with 1 Axes>"
            ],
            "image/png": "[encoded data removed]"
          },
          "metadata": {}
        }
      ]
    },
    {
      "cell_type": "markdown",
      "source": [
        "# Data Preprocessing"
      ],
      "metadata": {
        "id": "Zp8OEz-FSHM1"
      }
    },
    {
      "cell_type": "markdown",
      "source": [
        "## Case Folding"
      ],
      "metadata": {
        "id": "2tb0oQHDSTei"
      }
    },
    {
      "cell_type": "code",
      "source": [
        "import re\n",
        "\n",
        "def case_folding(data):\n",
        "  temp_tweet = []\n",
        "\n",
        "  for tweet in data:\n",
        "    tweet = re.sub(r\"(?:\\@|https?\\://)\\S+\", \"\", tweet)\n",
        "    tweet = re.sub(r\"http[s]?://(?:[a-zA-Z]|[0-9]|[$-_@.&+]|[!*,]|(?:%[0-9a-fA-F][0-9a-fA-F]))+\", \"\", tweet)\n",
        "    tweet = re.sub(r\"http\\S+\", \"\", tweet)\n",
        "    tweet = re.sub('\\n', '', tweet)\n",
        "    tweet = re.sub('RT', '', tweet)\n",
        "    tweet = re.sub(\"[^a-zA-Z^']\", \" \", tweet)\n",
        "    tweet = re.sub(\" {2,}\", \" \", tweet)\n",
        "    tweet = re.sub(r'\\s+', ' ', tweet)\n",
        "    tweet = tweet.strip()\n",
        "    tweet = tweet.lower();\n",
        "    temp_tweet.append(tweet)\n",
        "  return temp_tweet"
      ],
      "metadata": {
        "id": "HWFL6tfsRXr7"
      },
      "execution_count": 48,
      "outputs": []
    },
    {
      "cell_type": "code",
      "source": [
        "df['Tweet']=case_folding(df['Tweet'])\n",
        "df.head()"
      ],
      "metadata": {
        "colab": {
          "base_uri": "https://localhost:8080/",
          "height": 206
        },
        "id": "OVNT-GlkS_30",
        "outputId": "8d5de973-cf49-4597-f272-580cbca2a997"
      },
      "execution_count": 49,
      "outputs": [
        {
          "output_type": "execute_result",
          "data": {
            "text/plain": [
              "    Label                                              Tweet\n",
              "0  Non_HS  fadli zon minta mendagri segera menonaktifkan ...\n",
              "1  Non_HS  mereka terus melukai aksi dalam rangka memenja...\n",
              "2  Non_HS  sylvi bagaimana gurbernur melakukan kekerasan ...\n",
              "3  Non_HS  ahmad dhani tak puas debat pilkada masalah jal...\n",
              "4  Non_HS                    waspada ktp palsu kawal pilkada"
            ],
            "text/html": [
              "\n",
              "  <div id=\"df-0d8fae01-4d3d-477a-bd23-bb56bd580c42\">\n",
              "    <div class=\"colab-df-container\">\n",
              "      <div>\n",
              "<style scoped>\n",
              "    .dataframe tbody tr th:only-of-type {\n",
              "        vertical-align: middle;\n",
              "    }\n",
              "\n",
              "    .dataframe tbody tr th {\n",
              "        vertical-align: top;\n",
              "    }\n",
              "\n",
              "    .dataframe thead th {\n",
              "        text-align: right;\n",
              "    }\n",
              "</style>\n",
              "<table border=\"1\" class=\"dataframe\">\n",
              "  <thead>\n",
              "    <tr style=\"text-align: right;\">\n",
              "      <th></th>\n",
              "      <th>Label</th>\n",
              "      <th>Tweet</th>\n",
              "    </tr>\n",
              "  </thead>\n",
              "  <tbody>\n",
              "    <tr>\n",
              "      <th>0</th>\n",
              "      <td>Non_HS</td>\n",
              "      <td>fadli zon minta mendagri segera menonaktifkan ...</td>\n",
              "    </tr>\n",
              "    <tr>\n",
              "      <th>1</th>\n",
              "      <td>Non_HS</td>\n",
              "      <td>mereka terus melukai aksi dalam rangka memenja...</td>\n",
              "    </tr>\n",
              "    <tr>\n",
              "      <th>2</th>\n",
              "      <td>Non_HS</td>\n",
              "      <td>sylvi bagaimana gurbernur melakukan kekerasan ...</td>\n",
              "    </tr>\n",
              "    <tr>\n",
              "      <th>3</th>\n",
              "      <td>Non_HS</td>\n",
              "      <td>ahmad dhani tak puas debat pilkada masalah jal...</td>\n",
              "    </tr>\n",
              "    <tr>\n",
              "      <th>4</th>\n",
              "      <td>Non_HS</td>\n",
              "      <td>waspada ktp palsu kawal pilkada</td>\n",
              "    </tr>\n",
              "  </tbody>\n",
              "</table>\n",
              "</div>\n",
              "      <button class=\"colab-df-convert\" onclick=\"convertToInteractive('df-0d8fae01-4d3d-477a-bd23-bb56bd580c42')\"\n",
              "              title=\"Convert this dataframe to an interactive table.\"\n",
              "              style=\"display:none;\">\n",
              "        \n",
              "  <svg xmlns=\"http://www.w3.org/2000/svg\" height=\"24px\"viewBox=\"0 0 24 24\"\n",
              "       width=\"24px\">\n",
              "    <path d=\"M0 0h24v24H0V0z\" fill=\"none\"/>\n",
              "    <path d=\"M18.56 5.44l.94 2.06.94-2.06 2.06-.94-2.06-.94-.94-2.06-.94 2.06-2.06.94zm-11 1L8.5 8.5l.94-2.06 2.06-.94-2.06-.94L8.5 2.5l-.94 2.06-2.06.94zm10 10l.94 2.06.94-2.06 2.06-.94-2.06-.94-.94-2.06-.94 2.06-2.06.94z\"/><path d=\"M17.41 7.96l-1.37-1.37c-.4-.4-.92-.59-1.43-.59-.52 0-1.04.2-1.43.59L10.3 9.45l-7.72 7.72c-.78.78-.78 2.05 0 2.83L4 21.41c.39.39.9.59 1.41.59.51 0 1.02-.2 1.41-.59l7.78-7.78 2.81-2.81c.8-.78.8-2.07 0-2.86zM5.41 20L4 18.59l7.72-7.72 1.47 1.35L5.41 20z\"/>\n",
              "  </svg>\n",
              "      </button>\n",
              "      \n",
              "  <style>\n",
              "    .colab-df-container {\n",
              "      display:flex;\n",
              "      flex-wrap:wrap;\n",
              "      gap: 12px;\n",
              "    }\n",
              "\n",
              "    .colab-df-convert {\n",
              "      background-color: #E8F0FE;\n",
              "      border: none;\n",
              "      border-radius: 50%;\n",
              "      cursor: pointer;\n",
              "      display: none;\n",
              "      fill: #1967D2;\n",
              "      height: 32px;\n",
              "      padding: 0 0 0 0;\n",
              "      width: 32px;\n",
              "    }\n",
              "\n",
              "    .colab-df-convert:hover {\n",
              "      background-color: #E2EBFA;\n",
              "      box-shadow: 0px 1px 2px rgba(60, 64, 67, 0.3), 0px 1px 3px 1px rgba(60, 64, 67, 0.15);\n",
              "      fill: #174EA6;\n",
              "    }\n",
              "\n",
              "    [theme=dark] .colab-df-convert {\n",
              "      background-color: #3B4455;\n",
              "      fill: #D2E3FC;\n",
              "    }\n",
              "\n",
              "    [theme=dark] .colab-df-convert:hover {\n",
              "      background-color: #434B5C;\n",
              "      box-shadow: 0px 1px 3px 1px rgba(0, 0, 0, 0.15);\n",
              "      filter: drop-shadow(0px 1px 2px rgba(0, 0, 0, 0.3));\n",
              "      fill: #FFFFFF;\n",
              "    }\n",
              "  </style>\n",
              "\n",
              "      <script>\n",
              "        const buttonEl =\n",
              "          document.querySelector('#df-0d8fae01-4d3d-477a-bd23-bb56bd580c42 button.colab-df-convert');\n",
              "        buttonEl.style.display =\n",
              "          google.colab.kernel.accessAllowed ? 'block' : 'none';\n",
              "\n",
              "        async function convertToInteractive(key) {\n",
              "          const element = document.querySelector('#df-0d8fae01-4d3d-477a-bd23-bb56bd580c42');\n",
              "          const dataTable =\n",
              "            await google.colab.kernel.invokeFunction('convertToInteractive',\n",
              "                                                     [key], {});\n",
              "          if (!dataTable) return;\n",
              "\n",
              "          const docLinkHtml = 'Like what you see? Visit the ' +\n",
              "            '<a target=\"_blank\" href=https://colab.research.google.com/notebooks/data_table.ipynb>data table notebook</a>'\n",
              "            + ' to learn more about interactive tables.';\n",
              "          element.innerHTML = '';\n",
              "          dataTable['output_type'] = 'display_data';\n",
              "          await google.colab.output.renderOutput(dataTable, element);\n",
              "          const docLink = document.createElement('div');\n",
              "          docLink.innerHTML = docLinkHtml;\n",
              "          element.appendChild(docLink);\n",
              "        }\n",
              "      </script>\n",
              "    </div>\n",
              "  </div>\n",
              "  "
            ]
          },
          "metadata": {},
          "execution_count": 49
        }
      ]
    },
    {
      "cell_type": "markdown",
      "source": [
        "## Tokenize"
      ],
      "metadata": {
        "id": "StCfWTsUTjij"
      }
    },
    {
      "cell_type": "code",
      "source": [
        "import nltk\n",
        "nltk.download('punkt')\n",
        "\n",
        "def tokenized(data):\n",
        "  return data.apply(nltk.word_tokenize)"
      ],
      "metadata": {
        "colab": {
          "base_uri": "https://localhost:8080/"
        },
        "id": "sMyVdewrTm6y",
        "outputId": "94630004-5427-43ff-f6b3-aea3bcfc2181"
      },
      "execution_count": 50,
      "outputs": [
        {
          "output_type": "stream",
          "name": "stderr",
          "text": [
            "[nltk_data] Downloading package punkt to /root/nltk_data...\n",
            "[nltk_data]   Package punkt is already up-to-date!\n"
          ]
        }
      ]
    },
    {
      "cell_type": "code",
      "source": [
        "df['Tweet']=tokenized(df['Tweet'])\n",
        "df.head()"
      ],
      "metadata": {
        "colab": {
          "base_uri": "https://localhost:8080/",
          "height": 206
        },
        "id": "hLQHhiv0Tw8b",
        "outputId": "bcde0b7e-6bf1-44d7-e20d-5c389b84eaba"
      },
      "execution_count": 51,
      "outputs": [
        {
          "output_type": "execute_result",
          "data": {
            "text/plain": [
              "    Label                                              Tweet\n",
              "0  Non_HS  [fadli, zon, minta, mendagri, segera, menonakt...\n",
              "1  Non_HS  [mereka, terus, melukai, aksi, dalam, rangka, ...\n",
              "2  Non_HS  [sylvi, bagaimana, gurbernur, melakukan, keker...\n",
              "3  Non_HS  [ahmad, dhani, tak, puas, debat, pilkada, masa...\n",
              "4  Non_HS              [waspada, ktp, palsu, kawal, pilkada]"
            ],
            "text/html": [
              "\n",
              "  <div id=\"df-86408961-8a65-40a1-b480-72fd04b4d056\">\n",
              "    <div class=\"colab-df-container\">\n",
              "      <div>\n",
              "<style scoped>\n",
              "    .dataframe tbody tr th:only-of-type {\n",
              "        vertical-align: middle;\n",
              "    }\n",
              "\n",
              "    .dataframe tbody tr th {\n",
              "        vertical-align: top;\n",
              "    }\n",
              "\n",
              "    .dataframe thead th {\n",
              "        text-align: right;\n",
              "    }\n",
              "</style>\n",
              "<table border=\"1\" class=\"dataframe\">\n",
              "  <thead>\n",
              "    <tr style=\"text-align: right;\">\n",
              "      <th></th>\n",
              "      <th>Label</th>\n",
              "      <th>Tweet</th>\n",
              "    </tr>\n",
              "  </thead>\n",
              "  <tbody>\n",
              "    <tr>\n",
              "      <th>0</th>\n",
              "      <td>Non_HS</td>\n",
              "      <td>[fadli, zon, minta, mendagri, segera, menonakt...</td>\n",
              "    </tr>\n",
              "    <tr>\n",
              "      <th>1</th>\n",
              "      <td>Non_HS</td>\n",
              "      <td>[mereka, terus, melukai, aksi, dalam, rangka, ...</td>\n",
              "    </tr>\n",
              "    <tr>\n",
              "      <th>2</th>\n",
              "      <td>Non_HS</td>\n",
              "      <td>[sylvi, bagaimana, gurbernur, melakukan, keker...</td>\n",
              "    </tr>\n",
              "    <tr>\n",
              "      <th>3</th>\n",
              "      <td>Non_HS</td>\n",
              "      <td>[ahmad, dhani, tak, puas, debat, pilkada, masa...</td>\n",
              "    </tr>\n",
              "    <tr>\n",
              "      <th>4</th>\n",
              "      <td>Non_HS</td>\n",
              "      <td>[waspada, ktp, palsu, kawal, pilkada]</td>\n",
              "    </tr>\n",
              "  </tbody>\n",
              "</table>\n",
              "</div>\n",
              "      <button class=\"colab-df-convert\" onclick=\"convertToInteractive('df-86408961-8a65-40a1-b480-72fd04b4d056')\"\n",
              "              title=\"Convert this dataframe to an interactive table.\"\n",
              "              style=\"display:none;\">\n",
              "        \n",
              "  <svg xmlns=\"http://www.w3.org/2000/svg\" height=\"24px\"viewBox=\"0 0 24 24\"\n",
              "       width=\"24px\">\n",
              "    <path d=\"M0 0h24v24H0V0z\" fill=\"none\"/>\n",
              "    <path d=\"M18.56 5.44l.94 2.06.94-2.06 2.06-.94-2.06-.94-.94-2.06-.94 2.06-2.06.94zm-11 1L8.5 8.5l.94-2.06 2.06-.94-2.06-.94L8.5 2.5l-.94 2.06-2.06.94zm10 10l.94 2.06.94-2.06 2.06-.94-2.06-.94-.94-2.06-.94 2.06-2.06.94z\"/><path d=\"M17.41 7.96l-1.37-1.37c-.4-.4-.92-.59-1.43-.59-.52 0-1.04.2-1.43.59L10.3 9.45l-7.72 7.72c-.78.78-.78 2.05 0 2.83L4 21.41c.39.39.9.59 1.41.59.51 0 1.02-.2 1.41-.59l7.78-7.78 2.81-2.81c.8-.78.8-2.07 0-2.86zM5.41 20L4 18.59l7.72-7.72 1.47 1.35L5.41 20z\"/>\n",
              "  </svg>\n",
              "      </button>\n",
              "      \n",
              "  <style>\n",
              "    .colab-df-container {\n",
              "      display:flex;\n",
              "      flex-wrap:wrap;\n",
              "      gap: 12px;\n",
              "    }\n",
              "\n",
              "    .colab-df-convert {\n",
              "      background-color: #E8F0FE;\n",
              "      border: none;\n",
              "      border-radius: 50%;\n",
              "      cursor: pointer;\n",
              "      display: none;\n",
              "      fill: #1967D2;\n",
              "      height: 32px;\n",
              "      padding: 0 0 0 0;\n",
              "      width: 32px;\n",
              "    }\n",
              "\n",
              "    .colab-df-convert:hover {\n",
              "      background-color: #E2EBFA;\n",
              "      box-shadow: 0px 1px 2px rgba(60, 64, 67, 0.3), 0px 1px 3px 1px rgba(60, 64, 67, 0.15);\n",
              "      fill: #174EA6;\n",
              "    }\n",
              "\n",
              "    [theme=dark] .colab-df-convert {\n",
              "      background-color: #3B4455;\n",
              "      fill: #D2E3FC;\n",
              "    }\n",
              "\n",
              "    [theme=dark] .colab-df-convert:hover {\n",
              "      background-color: #434B5C;\n",
              "      box-shadow: 0px 1px 3px 1px rgba(0, 0, 0, 0.15);\n",
              "      filter: drop-shadow(0px 1px 2px rgba(0, 0, 0, 0.3));\n",
              "      fill: #FFFFFF;\n",
              "    }\n",
              "  </style>\n",
              "\n",
              "      <script>\n",
              "        const buttonEl =\n",
              "          document.querySelector('#df-86408961-8a65-40a1-b480-72fd04b4d056 button.colab-df-convert');\n",
              "        buttonEl.style.display =\n",
              "          google.colab.kernel.accessAllowed ? 'block' : 'none';\n",
              "\n",
              "        async function convertToInteractive(key) {\n",
              "          const element = document.querySelector('#df-86408961-8a65-40a1-b480-72fd04b4d056');\n",
              "          const dataTable =\n",
              "            await google.colab.kernel.invokeFunction('convertToInteractive',\n",
              "                                                     [key], {});\n",
              "          if (!dataTable) return;\n",
              "\n",
              "          const docLinkHtml = 'Like what you see? Visit the ' +\n",
              "            '<a target=\"_blank\" href=https://colab.research.google.com/notebooks/data_table.ipynb>data table notebook</a>'\n",
              "            + ' to learn more about interactive tables.';\n",
              "          element.innerHTML = '';\n",
              "          dataTable['output_type'] = 'display_data';\n",
              "          await google.colab.output.renderOutput(dataTable, element);\n",
              "          const docLink = document.createElement('div');\n",
              "          docLink.innerHTML = docLinkHtml;\n",
              "          element.appendChild(docLink);\n",
              "        }\n",
              "      </script>\n",
              "    </div>\n",
              "  </div>\n",
              "  "
            ]
          },
          "metadata": {},
          "execution_count": 51
        }
      ]
    },
    {
      "cell_type": "markdown",
      "source": [
        "## Stemming"
      ],
      "metadata": {
        "id": "Au26VqxVVLhx"
      }
    },
    {
      "cell_type": "code",
      "source": [
        "!pip install Sastrawi"
      ],
      "metadata": {
        "colab": {
          "base_uri": "https://localhost:8080/"
        },
        "id": "lHY-UgmhUz-S",
        "outputId": "6ecd1353-e7a2-4f65-feff-10bbd0faf5a9"
      },
      "execution_count": 52,
      "outputs": [
        {
          "output_type": "stream",
          "name": "stdout",
          "text": [
            "Looking in indexes: https://pypi.org/simple, https://us-python.pkg.dev/colab-wheels/public/simple/\n",
            "Requirement already satisfied: Sastrawi in /usr/local/lib/python3.8/dist-packages (1.0.1)\n"
          ]
        }
      ]
    },
    {
      "cell_type": "code",
      "source": [
        "from Sastrawi.Stemmer.StemmerFactory import StemmerFactory\n",
        "\n",
        "def stemming(data):\n",
        "  factory = StemmerFactory()\n",
        "  stemmer = factory.create_stemmer()\n",
        "\n",
        "  return [stemmer.stem(tweet) for tweet in data]"
      ],
      "metadata": {
        "id": "aRg-2hC8VTsf"
      },
      "execution_count": 53,
      "outputs": []
    },
    {
      "cell_type": "code",
      "source": [
        "df['Tweet'] = df['Tweet'].apply(stemming)\n",
        "df.head()"
      ],
      "metadata": {
        "colab": {
          "base_uri": "https://localhost:8080/",
          "height": 206
        },
        "id": "B6RP6zHKVa0d",
        "outputId": "6cc5043a-833d-48d3-bd85-21c8fc857e3b"
      },
      "execution_count": 54,
      "outputs": [
        {
          "output_type": "execute_result",
          "data": {
            "text/plain": [
              "    Label                                              Tweet\n",
              "0  Non_HS  [fadli, zon, minta, mendagri, segera, nonaktif...\n",
              "1  Non_HS  [mereka, terus, luka, aksi, dalam, rangka, pen...\n",
              "2  Non_HS  [sylvi, bagaimana, gurbernur, laku, keras, per...\n",
              "3  Non_HS  [ahmad, dhani, tak, puas, debat, pilkada, masa...\n",
              "4  Non_HS              [waspada, ktp, palsu, kawal, pilkada]"
            ],
            "text/html": [
              "\n",
              "  <div id=\"df-d2789b1a-0e01-4ed6-acc2-259351914637\">\n",
              "    <div class=\"colab-df-container\">\n",
              "      <div>\n",
              "<style scoped>\n",
              "    .dataframe tbody tr th:only-of-type {\n",
              "        vertical-align: middle;\n",
              "    }\n",
              "\n",
              "    .dataframe tbody tr th {\n",
              "        vertical-align: top;\n",
              "    }\n",
              "\n",
              "    .dataframe thead th {\n",
              "        text-align: right;\n",
              "    }\n",
              "</style>\n",
              "<table border=\"1\" class=\"dataframe\">\n",
              "  <thead>\n",
              "    <tr style=\"text-align: right;\">\n",
              "      <th></th>\n",
              "      <th>Label</th>\n",
              "      <th>Tweet</th>\n",
              "    </tr>\n",
              "  </thead>\n",
              "  <tbody>\n",
              "    <tr>\n",
              "      <th>0</th>\n",
              "      <td>Non_HS</td>\n",
              "      <td>[fadli, zon, minta, mendagri, segera, nonaktif...</td>\n",
              "    </tr>\n",
              "    <tr>\n",
              "      <th>1</th>\n",
              "      <td>Non_HS</td>\n",
              "      <td>[mereka, terus, luka, aksi, dalam, rangka, pen...</td>\n",
              "    </tr>\n",
              "    <tr>\n",
              "      <th>2</th>\n",
              "      <td>Non_HS</td>\n",
              "      <td>[sylvi, bagaimana, gurbernur, laku, keras, per...</td>\n",
              "    </tr>\n",
              "    <tr>\n",
              "      <th>3</th>\n",
              "      <td>Non_HS</td>\n",
              "      <td>[ahmad, dhani, tak, puas, debat, pilkada, masa...</td>\n",
              "    </tr>\n",
              "    <tr>\n",
              "      <th>4</th>\n",
              "      <td>Non_HS</td>\n",
              "      <td>[waspada, ktp, palsu, kawal, pilkada]</td>\n",
              "    </tr>\n",
              "  </tbody>\n",
              "</table>\n",
              "</div>\n",
              "      <button class=\"colab-df-convert\" onclick=\"convertToInteractive('df-d2789b1a-0e01-4ed6-acc2-259351914637')\"\n",
              "              title=\"Convert this dataframe to an interactive table.\"\n",
              "              style=\"display:none;\">\n",
              "        \n",
              "  <svg xmlns=\"http://www.w3.org/2000/svg\" height=\"24px\"viewBox=\"0 0 24 24\"\n",
              "       width=\"24px\">\n",
              "    <path d=\"M0 0h24v24H0V0z\" fill=\"none\"/>\n",
              "    <path d=\"M18.56 5.44l.94 2.06.94-2.06 2.06-.94-2.06-.94-.94-2.06-.94 2.06-2.06.94zm-11 1L8.5 8.5l.94-2.06 2.06-.94-2.06-.94L8.5 2.5l-.94 2.06-2.06.94zm10 10l.94 2.06.94-2.06 2.06-.94-2.06-.94-.94-2.06-.94 2.06-2.06.94z\"/><path d=\"M17.41 7.96l-1.37-1.37c-.4-.4-.92-.59-1.43-.59-.52 0-1.04.2-1.43.59L10.3 9.45l-7.72 7.72c-.78.78-.78 2.05 0 2.83L4 21.41c.39.39.9.59 1.41.59.51 0 1.02-.2 1.41-.59l7.78-7.78 2.81-2.81c.8-.78.8-2.07 0-2.86zM5.41 20L4 18.59l7.72-7.72 1.47 1.35L5.41 20z\"/>\n",
              "  </svg>\n",
              "      </button>\n",
              "      \n",
              "  <style>\n",
              "    .colab-df-container {\n",
              "      display:flex;\n",
              "      flex-wrap:wrap;\n",
              "      gap: 12px;\n",
              "    }\n",
              "\n",
              "    .colab-df-convert {\n",
              "      background-color: #E8F0FE;\n",
              "      border: none;\n",
              "      border-radius: 50%;\n",
              "      cursor: pointer;\n",
              "      display: none;\n",
              "      fill: #1967D2;\n",
              "      height: 32px;\n",
              "      padding: 0 0 0 0;\n",
              "      width: 32px;\n",
              "    }\n",
              "\n",
              "    .colab-df-convert:hover {\n",
              "      background-color: #E2EBFA;\n",
              "      box-shadow: 0px 1px 2px rgba(60, 64, 67, 0.3), 0px 1px 3px 1px rgba(60, 64, 67, 0.15);\n",
              "      fill: #174EA6;\n",
              "    }\n",
              "\n",
              "    [theme=dark] .colab-df-convert {\n",
              "      background-color: #3B4455;\n",
              "      fill: #D2E3FC;\n",
              "    }\n",
              "\n",
              "    [theme=dark] .colab-df-convert:hover {\n",
              "      background-color: #434B5C;\n",
              "      box-shadow: 0px 1px 3px 1px rgba(0, 0, 0, 0.15);\n",
              "      filter: drop-shadow(0px 1px 2px rgba(0, 0, 0, 0.3));\n",
              "      fill: #FFFFFF;\n",
              "    }\n",
              "  </style>\n",
              "\n",
              "      <script>\n",
              "        const buttonEl =\n",
              "          document.querySelector('#df-d2789b1a-0e01-4ed6-acc2-259351914637 button.colab-df-convert');\n",
              "        buttonEl.style.display =\n",
              "          google.colab.kernel.accessAllowed ? 'block' : 'none';\n",
              "\n",
              "        async function convertToInteractive(key) {\n",
              "          const element = document.querySelector('#df-d2789b1a-0e01-4ed6-acc2-259351914637');\n",
              "          const dataTable =\n",
              "            await google.colab.kernel.invokeFunction('convertToInteractive',\n",
              "                                                     [key], {});\n",
              "          if (!dataTable) return;\n",
              "\n",
              "          const docLinkHtml = 'Like what you see? Visit the ' +\n",
              "            '<a target=\"_blank\" href=https://colab.research.google.com/notebooks/data_table.ipynb>data table notebook</a>'\n",
              "            + ' to learn more about interactive tables.';\n",
              "          element.innerHTML = '';\n",
              "          dataTable['output_type'] = 'display_data';\n",
              "          await google.colab.output.renderOutput(dataTable, element);\n",
              "          const docLink = document.createElement('div');\n",
              "          docLink.innerHTML = docLinkHtml;\n",
              "          element.appendChild(docLink);\n",
              "        }\n",
              "      </script>\n",
              "    </div>\n",
              "  </div>\n",
              "  "
            ]
          },
          "metadata": {},
          "execution_count": 54
        }
      ]
    },
    {
      "cell_type": "markdown",
      "source": [
        "## Slang Words Removal"
      ],
      "metadata": {
        "id": "d7a-p2RgVpnp"
      }
    },
    {
      "cell_type": "code",
      "source": [
        "import requests\n",
        "\n",
        "slang_word = requests.get('https://raw.githubusercontent.com/louisowen6/NLP_bahasa_resources/master/combined_slang_words.txt').text\n",
        "dict_slang = eval(slang_word)\n",
        "dict_slang.items()"
      ],
      "metadata": {
        "colab": {
          "base_uri": "https://localhost:8080/"
        },
        "id": "_zM-tyThVtSo",
        "outputId": "5f768a59-4df0-422f-d4eb-7556f5d46d81"
      },
      "execution_count": 55,
      "outputs": [
        {
          "output_type": "execute_result",
          "data": {
            "text/plain": [
              "dict_items([('@', 'di'), ('abis', 'habis'), ('ad', 'ada'), ('adlh', 'adalah'), ('afaik', 'as far as i know'), ('ahaha', 'haha'), ('aj', 'saja'), ('ajep-ajep', 'dunia gemerlap'), ('ak', 'saya'), ('akika', 'aku'), ('akkoh', 'aku'), ('akuwh', 'aku'), ('alay', 'norak'), ('alow', 'halo'), ('ambilin', 'ambilkan'), ('ancur', 'hancur'), ('anjrit', 'anjing'), ('anter', 'antar'), ('ap2', 'apa-apa'), ('apasih', 'apa sih'), ('apes', 'sial'), ('aps', 'apa'), ('aq', 'saya'), ('aquwh', 'aku'), ('asbun', 'asal bunyi'), ('aseekk', 'asyik'), ('asekk', 'asyik'), ('asem', 'asam'), ('aspal', 'asli tetapi palsu'), ('astul', 'asal tulis'), ('ato', 'atau'), ('au ah', 'tidak mau tahu'), ('awak', 'saya'), ('ay', 'sayang'), ('ayank', 'sayang'), ('b4', 'sebelum'), ('bakalan', 'akan'), ('bandes', 'bantuan desa'), ('bangedh', 'banget'), ('banpol', 'bantuan polisi'), ('banpur', 'bantuan tempur'), ('basbang', 'basi'), ('bcanda', 'bercanda'), ('bdg', 'bandung'), ('begajulan', 'nakal'), ('beliin', 'belikan'), ('bencong', 'banci'), ('bentar', 'sebentar'), ('ber3', 'bertiga'), ('beresin', 'membereskan'), ('bete', 'bosan'), ('beud', 'banget'), ('bg', 'abang'), ('bgmn', 'bagaimana'), ('bgt', 'banget'), ('bijimane', 'bagaimana'), ('bintal', 'bimbingan mental'), ('bkl', 'akan'), ('bknnya', 'bukannya'), ('blegug', 'bodoh'), ('blh', 'boleh'), ('bln', 'bulan'), ('blum', 'belum'), ('bnci', 'benci'), ('bnran', 'yang benar'), ('bodor', 'lucu'), ('bokap', 'ayah'), ('boker', 'buang air besar'), ('bokis', 'bohong'), ('boljug', 'boleh juga'), ('bonek', 'bocah nekat'), ('boyeh', 'boleh'), ('br', 'baru'), ('brg', 'bareng'), ('bro', 'saudara laki-laki'), ('bru', 'baru'), ('bs', 'bisa'), ('bsen', 'bosan'), ('bt', 'buat'), ('btw', 'ngomong-ngomong'), ('buaya', 'tidak setia'), ('bubbu', 'tidur'), ('bubu', 'tidur'), ('bumil', 'ibu hamil'), ('bw', 'bawa'), ('bwt', 'buat'), ('byk', 'banyak'), ('byrin', 'bayarkan'), ('cabal', 'sabar'), ('cadas', 'keren'), ('calo', 'makelar'), ('can', 'belum'), ('capcus', 'pergi'), ('caper', 'cari perhatian'), ('ce', 'cewek'), ('cekal', 'cegah tangkal'), ('cemen', 'penakut'), ('cengengesan', 'tertawa'), ('cepet', 'cepat'), ('cew', 'cewek'), ('chuyunk', 'sayang'), ('cimeng', 'ganja'), ('cipika cipiki', 'cium pipi kanan cium pipi kiri'), ('ciyh', 'sih'), ('ckepp', 'cakep'), ('ckp', 'cakep'), ('cmiiw', \"correct me if i'm wrong\"), ('cmpur', 'campur'), ('cong', 'banci'), ('conlok', 'cinta lokasi'), ('cowwyy', 'maaf'), ('cp', 'siapa'), ('cpe', 'capek'), ('cppe', 'capek'), ('cucok', 'cocok'), ('cuex', 'cuek'), ('cumi', 'Cuma miscall'), ('cups', 'culun'), ('curanmor', 'pencurian kendaraan bermotor'), ('curcol', 'curahan hati colongan'), ('cwek', 'cewek'), ('cyin', 'cinta'), ('d', 'di'), ('dah', 'deh'), ('dapet', 'dapat'), ('de', 'adik'), ('dek', 'adik'), ('demen', 'suka'), ('deyh', 'deh'), ('dgn', 'dengan'), ('diancurin', 'dihancurkan'), ('dimaafin', 'dimaafkan'), ('dimintak', 'diminta'), ('disono', 'di sana'), ('dket', 'dekat'), ('dkk', 'dan kawan-kawan'), ('dll', 'dan lain-lain'), ('dlu', 'dulu'), ('dngn', 'dengan'), ('dodol', 'bodoh'), ('doku', 'uang'), ('dongs', 'dong'), ('dpt', 'dapat'), ('dri', 'dari'), ('drmn', 'darimana'), ('drtd', 'dari tadi'), ('dst', 'dan seterusnya'), ('dtg', 'datang'), ('duh', 'aduh'), ('duren', 'durian'), ('ed', 'edisi'), ('egp', 'emang gue pikirin'), ('eke', 'aku'), ('elu', 'kamu'), ('emangnya', 'memangnya'), ('emng', 'memang'), ('endak', 'tidak'), ('enggak', 'tidak'), ('envy', 'iri'), ('ex', 'mantan'), ('fax', 'facsimile'), ('fifo', 'first in first out'), ('folbek', 'follow back'), ('fyi', 'sebagai informasi'), ('gaada', 'tidak ada uang'), ('gag', 'tidak'), ('gaje', 'tidak jelas'), ('gak papa', 'tidak apa-apa'), ('gan', 'juragan'), ('gaptek', 'gagap teknologi'), ('gatek', 'gagap teknologi'), ('gawe', 'kerja'), ('gbs', 'tidak bisa'), ('gebetan', 'orang yang disuka'), ('geje', 'tidak jelas'), ('gepeng', 'gelandangan dan pengemis'), ('ghiy', 'lagi'), ('gile', 'gila'), ('gimana', 'bagaimana'), ('gino', 'gigi nongol'), ('githu', 'gitu'), ('gj', 'tidak jelas'), ('gmana', 'bagaimana'), ('gn', 'begini'), ('goblok', 'bodoh'), ('golput', 'golongan putih'), ('gowes', 'mengayuh sepeda'), ('gpny', 'tidak punya'), ('gr', 'gede rasa'), ('gretongan', 'gratisan'), ('gtau', 'tidak tahu'), ('gua', 'saya'), ('guoblok', 'goblok'), ('gw', 'saya'), ('ha', 'tertawa'), ('haha', 'tertawa'), ('hallow', 'halo'), ('hankam', 'pertahanan dan keamanan'), ('hehe', 'he'), ('helo', 'halo'), ('hey', 'hai'), ('hlm', 'halaman'), ('hny', 'hanya'), ('hoax', 'isu bohong'), ('hr', 'hari'), ('hrus', 'harus'), ('hubdar', 'perhubungan darat'), ('huff', 'mengeluh'), ('hum', 'rumah'), ('humz', 'rumah'), ('ilang', 'hilang'), ('ilfil', 'tidak suka'), ('imho', 'in my humble opinion'), ('imoetz', 'imut'), ('item', 'hitam'), ('itungan', 'hitungan'), ('iye', 'iya'), ('ja', 'saja'), ('jadiin', 'jadi'), ('jaim', 'jaga image'), ('jayus', 'tidak lucu'), ('jdi', 'jadi'), ('jem', 'jam'), ('jga', 'juga'), ('jgnkan', 'jangankan'), ('jir', 'anjing'), ('jln', 'jalan'), ('jomblo', 'tidak punya pacar'), ('jubir', 'juru bicara'), ('jutek', 'galak'), ('k', 'ke'), ('kab', 'kabupaten'), ('kabor', 'kabur'), ('kacrut', 'kacau'), ('kadiv', 'kepala divisi'), ('kagak', 'tidak'), ('kalo', 'kalau'), ('kampret', 'sialan'), ('kamtibmas', 'keamanan dan ketertiban masyarakat'), ('kamuwh', 'kamu'), ('kanwil', 'kantor wilayah'), ('karna', 'karena'), ('kasubbag', 'kepala subbagian'), ('katrok', 'kampungan'), ('kayanya', 'kayaknya'), ('kbr', 'kabar'), ('kdu', 'harus'), ('kec', 'kecamatan'), ('kejurnas', 'kejuaraan nasional'), ('kekeuh', 'keras kepala'), ('kel', 'kelurahan'), ('kemaren', 'kemarin'), ('kepengen', 'mau'), ('kepingin', 'mau'), ('kepsek', 'kepala sekolah'), ('kesbang', 'kesatuan bangsa'), ('kesra', 'kesejahteraan rakyat'), ('ketrima', 'diterima'), ('kgiatan', 'kegiatan'), ('kibul', 'bohong'), ('kimpoi', 'kawin'), ('kl', 'kalau'), ('klianz', 'kalian'), ('kloter', 'kelompok terbang'), ('klw', 'kalau'), ('km', 'kamu'), ('kmps', 'kampus'), ('kmrn', 'kemarin'), ('knal', 'kenal'), ('knp', 'kenapa'), ('kodya', 'kota madya'), ('komdis', 'komisi disiplin'), ('komsov', 'komunis sovyet'), ('kongkow', 'kumpul bareng teman-teman'), ('kopdar', 'kopi darat'), ('korup', 'korupsi'), ('kpn', 'kapan'), ('krenz', 'keren'), ('krm', 'kirim'), ('kt', 'kita'), ('ktmu', 'ketemu'), ('ktr', 'kantor'), ('kuper', 'kurang pergaulan'), ('kw', 'imitasi'), ('kyk', 'seperti'), ('la', 'lah'), ('lam', 'salam'), ('lamp', 'lampiran'), ('lanud', 'landasan udara'), ('latgab', 'latihan gabungan'), ('lebay', 'berlebihan'), ('leh', 'boleh'), ('lelet', 'lambat'), ('lemot', 'lambat'), ('lgi', 'lagi'), ('lgsg', 'langsung'), ('liat', 'lihat'), ('litbang', 'penelitian dan pengembangan'), ('lmyn', 'lumayan'), ('lo', 'kamu'), ('loe', 'kamu'), ('lola', 'lambat berfikir'), ('louph', 'cinta'), ('low', 'kalau'), ('lp', 'lupa'), ('luber', 'langsung, umum, bebas, dan rahasia'), ('luchuw', 'lucu'), ('lum', 'belum'), ('luthu', 'lucu'), ('lwn', 'lawan'), ('maacih', 'terima kasih'), ('mabal', 'bolos'), ('macem', 'macam'), ('macih', 'masih'), ('maem', 'makan'), ('magabut', 'makan gaji buta'), ('maho', 'homo'), ('mak jang', 'kaget'), ('maksain', 'memaksa'), ('malem', 'malam'), ('mam', 'makan'), ('maneh', 'kamu'), ('maniez', 'manis'), ('mao', 'mau'), ('masukin', 'masukkan'), ('melu', 'ikut'), ('mepet', 'dekat sekali'), ('mgu', 'minggu'), ('migas', 'minyak dan gas bumi'), ('mikol', 'minuman beralkohol'), ('miras', 'minuman keras'), ('mlah', 'malah'), ('mngkn', 'mungkin'), ('mo', 'mau'), ('mokad', 'mati'), ('moso', 'masa'), ('mpe', 'sampai'), ('msk', 'masuk'), ('mslh', 'masalah'), ('mt', 'makan teman'), ('mubes', 'musyawarah besar'), ('mulu', 'melulu'), ('mumpung', 'selagi'), ('munas', 'musyawarah nasional'), ('muntaber', 'muntah dan berak'), ('musti', 'mesti'), ('muupz', 'maaf'), ('mw', 'now watching'), ('n', 'dan'), ('nanam', 'menanam'), ('nanya', 'bertanya'), ('napa', 'kenapa'), ('napi', 'narapidana'), ('napza', 'narkotika, alkohol, psikotropika, dan zat adiktif '), ('narkoba', 'narkotika, psikotropika, dan obat terlarang'), ('nasgor', 'nasi goreng'), ('nda', 'tidak'), ('ndiri', 'sendiri'), ('ne', 'ini'), ('nekolin', 'neokolonialisme'), ('nembak', 'menyatakan cinta'), ('ngabuburit', 'menunggu berbuka puasa'), ('ngaku', 'mengaku'), ('ngambil', 'mengambil'), ('nganggur', 'tidak punya pekerjaan'), ('ngapah', 'kenapa'), ('ngaret', 'terlambat'), ('ngasih', 'memberikan'), ('ngebandel', 'berbuat bandel'), ('ngegosip', 'bergosip'), ('ngeklaim', 'mengklaim'), ('ngeksis', 'menjadi eksis'), ('ngeles', 'berkilah'), ('ngelidur', 'menggigau'), ('ngerampok', 'merampok'), ('ngga', 'tidak'), ('ngibul', 'berbohong'), ('ngiler', 'mau'), ('ngiri', 'iri'), ('ngisiin', 'mengisikan'), ('ngmng', 'bicara'), ('ngomong', 'bicara'), ('ngubek2', 'mencari-cari'), ('ngurus', 'mengurus'), ('nie', 'ini'), ('nih', 'ini'), ('niyh', 'nih'), ('nmr', 'nomor'), ('nntn', 'nonton'), ('nobar', 'nonton bareng'), ('np', 'now playing'), ('ntar', 'nanti'), ('ntn', 'nonton'), ('numpuk', 'bertumpuk'), ('nutupin', 'menutupi'), ('nyari', 'mencari'), ('nyekar', 'menyekar'), ('nyicil', 'mencicil'), ('nyoblos', 'mencoblos'), ('nyokap', 'ibu'), ('ogah', 'tidak mau'), ('ol', 'online'), ('ongkir', 'ongkos kirim'), ('oot', 'out of topic'), ('org2', 'orang-orang'), ('ortu', 'orang tua'), ('otda', 'otonomi daerah'), ('otw', 'on the way, sedang di jalan'), ('pacal', 'pacar'), ('pake', 'pakai'), ('pala', 'kepala'), ('pansus', 'panitia khusus'), ('parpol', 'partai politik'), ('pasutri', 'pasangan suami istri'), ('pd', 'pada'), ('pede', 'percaya diri'), ('pelatnas', 'pemusatan latihan nasional'), ('pemda', 'pemerintah daerah'), ('pemkot', 'pemerintah kota'), ('pemred', 'pemimpin redaksi'), ('penjas', 'pendidikan jasmani'), ('perda', 'peraturan daerah'), ('perhatiin', 'perhatikan'), ('pesenan', 'pesanan'), ('pgang', 'pegang'), ('pi', 'tapi'), ('pilkada', 'pemilihan kepala daerah'), ('pisan', 'sangat'), ('pk', 'penjahat kelamin'), ('plg', 'paling'), ('pmrnth', 'pemerintah'), ('polantas', 'polisi lalu lintas'), ('ponpes', 'pondok pesantren'), ('pp', 'pulang pergi'), ('prg', 'pergi'), ('prnh', 'pernah'), ('psen', 'pesan'), ('pst', 'pasti'), ('pswt', 'pesawat'), ('pw', 'posisi nyaman'), ('qmu', 'kamu'), ('rakor', 'rapat koordinasi'), ('ranmor', 'kendaraan bermotor'), ('re', 'reply'), ('ref', 'referensi'), ('rehab', 'rehabilitasi'), ('rempong', 'sulit'), ('repp', 'balas'), ('restik', 'reserse narkotika'), ('rhs', 'rahasia'), ('rmh', 'rumah'), ('ru', 'baru'), ('ruko', 'rumah toko'), ('rusunawa', 'rumah susun sewa'), ('ruz', 'terus'), ('saia', 'saya'), ('salting', 'salah tingkah'), ('sampe', 'sampai'), ('samsek', 'sama sekali'), ('sapose', 'siapa'), ('satpam', 'satuan pengamanan'), ('sbb', 'sebagai berikut'), ('sbh', 'sebuah'), ('sbnrny', 'sebenarnya'), ('scr', 'secara'), ('sdgkn', 'sedangkan'), ('sdkt', 'sedikit'), ('se7', 'setuju'), ('sebelas dua belas', 'mirip'), ('sembako', 'sembilan bahan pokok'), ('sempet', 'sempat'), ('sendratari', 'seni drama tari'), ('sgt', 'sangat'), ('shg', 'sehingga'), ('siech', 'sih'), ('sikon', 'situasi dan kondisi'), ('sinetron', 'sinema elektronik'), ('siramin', 'siramkan'), ('sj', 'saja'), ('skalian', 'sekalian'), ('sklh', 'sekolah'), ('skt', 'sakit'), ('slesai', 'selesai'), ('sll', 'selalu'), ('slma', 'selama'), ('slsai', 'selesai'), ('smpt', 'sempat'), ('smw', 'semua'), ('sndiri', 'sendiri'), ('soljum', 'sholat jumat'), ('songong', 'sombong'), ('sory', 'maaf'), ('sosek', 'sosial-ekonomi'), ('sotoy', 'sok tahu'), ('spa', 'siapa'), ('sppa', 'siapa'), ('spt', 'seperti'), ('srtfkt', 'sertifikat'), ('stiap', 'setiap'), ('stlh', 'setelah'), ('suk', 'masuk'), ('sumpek', 'sempit'), ('syg', 'sayang'), ('t4', 'tempat'), ('tajir', 'kaya'), ('tau', 'tahu'), ('taw', 'tahu'), ('td', 'tadi'), ('tdk', 'tidak'), ('teh', 'kakak perempuan'), ('telat', 'terlambat'), ('telmi', 'telat berpikir'), ('temen', 'teman'), ('tengil', 'menyebalkan'), ('tepar', 'terkapar'), ('tggu', 'tunggu'), ('tgu', 'tunggu'), ('thankz', 'terima kasih'), ('thn', 'tahun'), ('tilang', 'bukti pelanggaran'), ('tipiwan', 'TvOne'), ('tks', 'terima kasih'), ('tlp', 'telepon'), ('tls', 'tulis'), ('tmbah', 'tambah'), ('tmen2', 'teman-teman'), ('tmpah', 'tumpah'), ('tmpt', 'tempat'), ('tngu', 'tunggu'), ('tnyta', 'ternyata'), ('tokai', 'tai'), ('toserba', 'toko serba ada'), ('tpi', 'tapi'), ('trdhulu', 'terdahulu'), ('trima', 'terima kasih'), ('trm', 'terima'), ('trs', 'terus'), ('trutama', 'terutama'), ('ts', 'penulis'), ('tst', 'tahu sama tahu'), ('ttg', 'tentang'), ('tuch', 'tuh'), ('tuir', 'tua'), ('tw', 'tahu'), ('u', 'kamu'), ('ud', 'sudah'), ('udah', 'sudah'), ('ujg', 'ujung'), ('ul', 'ulangan'), ('unyu', 'lucu'), ('uplot', 'unggah'), ('urang', 'saya'), ('usah', 'perlu'), ('utk', 'untuk'), ('valas', 'valuta asing'), ('w/', 'dengan'), ('wadir', 'wakil direktur'), ('wamil', 'wajib militer'), ('warkop', 'warung kopi'), ('warteg', 'warung tegal'), ('wat', 'buat'), ('wkt', 'waktu'), ('wtf', 'what the fuck'), ('xixixi', 'tertawa'), ('ya', 'iya'), ('yap', 'iya'), ('yaudah', 'ya sudah'), ('yawdah', 'ya sudah'), ('yg', 'yang'), ('yl', 'yang lain'), ('yo', 'iya'), ('yowes', 'ya sudah'), ('yup', 'iya'), ('7an', 'tujuan'), ('ababil', 'abg labil'), ('acc', 'accord'), ('adlah', 'adalah'), ('adoh', 'aduh'), ('aha', 'tertawa'), ('aing', 'saya'), ('aja', 'saja'), ('ajj', 'saja'), ('aka', 'dikenal juga sebagai'), ('akko', 'aku'), ('akku', 'aku'), ('akyu', 'aku'), ('aljasa', 'asal jadi saja'), ('ama', 'sama'), ('ambl', 'ambil'), ('anjir', 'anjing'), ('ank', 'anak'), ('ap', 'apa'), ('apaan', 'apa'), ('ape', 'apa'), ('aplot', 'unggah'), ('apva', 'apa'), ('aqu', 'aku'), ('asap', 'sesegera mungkin'), ('aseek', 'asyik'), ('asek', 'asyik'), ('aseknya', 'asyiknya'), ('asoy', 'asyik'), ('astrojim', 'astagfirullahaladzim'), ('ath', 'kalau begitu'), ('atuh', 'kalau begitu'), ('ava', 'avatar'), ('aws', 'awas'), ('ayang', 'sayang'), ('ayok', 'ayo'), ('bacot', 'banyak bicara'), ('bales', 'balas'), ('bangdes', 'pembangunan desa'), ('bangkotan', 'tua'), ('banpres', 'bantuan presiden'), ('bansarkas', 'bantuan sarana kesehatan'), ('bazis', 'badan amal, zakat, infak, dan sedekah'), ('bcoz', 'karena'), ('beb', 'sayang'), ('bejibun', 'banyak'), ('belom', 'belum'), ('bener', 'benar'), ('ber2', 'berdua'), ('berdikari', 'berdiri di atas kaki sendiri'), ('bet', 'banget'), ('beti', 'beda tipis'), ('beut', 'banget'), ('bgd', 'banget'), ('bgs', 'bagus'), ('bhubu', 'tidur'), ('bimbuluh', 'bimbingan dan penyuluhan'), ('bisi', 'kalau-kalau'), ('bkn', 'bukan'), ('bl', 'beli'), ('blg', 'bilang'), ('blm', 'belum'), ('bls', 'balas'), ('bnchi', 'benci'), ('bngung', 'bingung'), ('bnyk', 'banyak'), ('bohay', 'badan aduhai'), ('bokep', 'porno'), ('bokin', 'pacar'), ('bole', 'boleh'), ('bolot', 'bodoh'), ('bonyok', 'ayah ibu'), ('bpk', 'bapak'), ('brb', 'segera kembali'), ('brngkt', 'berangkat'), ('brp', 'berapa'), ('brur', 'saudara laki-laki'), ('bsa', 'bisa'), ('bsk', 'besok'), ('bu_bu', 'tidur'), ('bubarin', 'bubarkan'), ('buber', 'buka bersama'), ('bujubune', 'luar biasa'), ('buser', 'buru sergap'), ('bwhn', 'bawahan'), ('byar', 'bayar'), ('byr', 'bayar'), ('c8', 'chat'), ('cabut', 'pergi'), ('caem', 'cakep'), ('cama-cama', 'sama-sama'), ('cangcut', 'celana dalam'), ('cape', 'capek'), ('caur', 'jelek'), ('cekak', 'tidak ada uang'), ('cekidot', 'coba lihat'), ('cemplungin', 'cemplungkan'), ('ceper', 'pendek'), ('ceu', 'kakak perempuan'), ('cewe', 'cewek'), ('cibuk', 'sibuk'), ('cin', 'cinta'), ('ciye', 'cie'), ('ckck', 'ck'), ('clbk', 'cinta lama bersemi kembali'), ('cmpr', 'campur'), ('cnenk', 'senang'), ('congor', 'mulut'), ('cow', 'cowok'), ('coz', 'karena'), ('cpa', 'siapa'), ('gokil', 'gila'), ('gombal', 'suka merayu'), ('gpl', 'tidak pakai lama'), ('gpp', 'tidak apa-apa'), ('gretong', 'gratis'), ('gt', 'begitu'), ('gtw', 'tidak tahu'), ('gue', 'saya'), ('guys', 'teman-teman'), ('gws', 'cepat sembuh'), ('haghaghag', 'tertawa'), ('hakhak', 'tertawa'), ('handak', 'bahan peledak'), ('hansip', 'pertahanan sipil'), ('hellow', 'halo'), ('helow', 'halo'), ('hi', 'hai'), ('hlng', 'hilang'), ('hnya', 'hanya'), ('houm', 'rumah'), ('hrs', 'harus'), ('hubad', 'hubungan angkatan darat'), ('hubla', 'perhubungan laut'), ('huft', 'mengeluh'), ('humas', 'hubungan masyarakat'), ('idk', 'saya tidak tahu'), ('ilfeel', 'tidak suka'), ('imba', 'jago sekali'), ('imoet', 'imut'), ('info', 'informasi'), ('itung', 'hitung'), ('isengin', 'bercanda'), ('iyala', 'iya lah'), ('iyo', 'iya'), ('jablay', 'jarang dibelai'), ('jadul', 'jaman dulu'), ('jancuk', 'anjing'), ('jd', 'jadi'), ('jdikan', 'jadikan'), ('jg', 'juga'), ('jgn', 'jangan'), ('jijay', 'jijik'), ('jkt', 'jakarta'), ('jnj', 'janji'), ('jth', 'jatuh'), ('jurdil', 'jujur adil'), ('jwb', 'jawab'), ('ka', 'kakak'), ('kabag', 'kepala bagian'), ('kacian', 'kasihan'), ('kadit', 'kepala direktorat'), ('kaga', 'tidak'), ('kaka', 'kakak'), ('kamtib', 'keamanan dan ketertiban'), ('kamuh', 'kamu'), ('kamyu', 'kamu'), ('kapt', 'kapten'), ('kasat', 'kepala satuan'), ('kasubbid', 'kepala subbidang'), ('kau', 'kamu'), ('kbar', 'kabar'), ('kcian', 'kasihan'), ('keburu', 'terlanjur'), ('kedubes', 'kedutaan besar'), ('kek', 'seperti'), ('keknya', 'kayaknya'), ('keliatan', 'kelihatan'), ('keneh', 'masih'), ('kepikiran', 'terpikirkan'), ('kepo', 'mau tahu urusan orang'), ('kere', 'tidak punya uang'), ('kesian', 'kasihan'), ('ketauan', 'ketahuan'), ('keukeuh', 'keras kepala'), ('khan', 'kan'), ('kibus', 'kaki busuk'), ('kk', 'kakak'), ('klian', 'kalian'), ('klo', 'kalau'), ('kluarga', 'keluarga'), ('klwrga', 'keluarga'), ('kmari', 'kemari'), ('kmpus', 'kampus'), ('kn', 'kan'), ('knl', 'kenal'), ('knpa', 'kenapa'), ('kog', 'kok'), ('kompi', 'komputer'), ('komtiong', 'komunis Tiongkok'), ('konjen', 'konsulat jenderal'), ('koq', 'kok'), ('kpd', 'kepada'), ('kptsan', 'keputusan'), ('krik', 'garing'), ('krn', 'karena'), ('ktauan', 'ketahuan'), ('ktny', 'katanya'), ('kudu', 'harus'), ('kuq', 'kok'), ('ky', 'seperti'), ('kykny', 'kayanya'), ('laka', 'kecelakaan'), ('lambreta', 'lambat'), ('lansia', 'lanjut usia'), ('lapas', 'lembaga pemasyarakatan'), ('lbur', 'libur'), ('lekong', 'laki-laki'), ('lg', 'lagi'), ('lgkp', 'lengkap'), ('lht', 'lihat'), ('linmas', 'perlindungan masyarakat'), ('lmyan', 'lumayan'), ('lngkp', 'lengkap'), ('loch', 'loh'), ('lol', 'tertawa'), ('lom', 'belum'), ('loupz', 'cinta'), ('lowh', 'kamu'), ('lu', 'kamu'), ('luchu', 'lucu'), ('luff', 'cinta'), ('luph', 'cinta'), ('lw', 'kamu'), ('lwt', 'lewat'), ('maaciw', 'terima kasih'), ('mabes', 'markas besar'), ('macem-macem', 'macam-macam'), ('madesu', 'masa depan suram'), ('maen', 'main'), ('mahatma', 'maju sehat bersama'), ('mak', 'ibu'), ('makasih', 'terima kasih'), ('malah', 'bahkan'), ('malu2in', 'memalukan'), ('mamz', 'makan'), ('manies', 'manis'), ('mantep', 'mantap'), ('markus', 'makelar kasus'), ('mba', 'mbak'), ('mending', 'lebih baik'), ('mgkn', 'mungkin'), ('mhn', 'mohon'), ('miker', 'minuman keras'), ('milis', 'mailing list'), ('mksd', 'maksud'), ('mls', 'malas'), ('mnt', 'minta'), ('moge', 'motor gede'), ('mokat', 'mati'), ('mosok', 'masa'), ('msh', 'masih'), ('mskpn', 'meskipun'), ('msng2', 'masing-masing'), ('muahal', 'mahal'), ('muker', 'musyawarah kerja'), ('mumet', 'pusing'), ('muna', 'munafik'), ('munaslub', 'musyawarah nasional luar biasa'), ('musda', 'musyawarah daerah'), ('muup', 'maaf'), ('muuv', 'maaf'), ('nal', 'kenal'), ('nangis', 'menangis'), ('naon', 'apa'), ('napol', 'narapidana politik'), ('naq', 'anak'), ('narsis', 'bangga pada diri sendiri'), ('nax', 'anak'), ('ndak', 'tidak'), ('ndut', 'gendut'), ('nekolim', 'neokolonialisme'), ('nelfon', 'menelepon'), ('ngabis2in', 'menghabiskan'), ('ngakak', 'tertawa'), ('ngambek', 'marah'), ('ngampus', 'pergi ke kampus'), ('ngantri', 'mengantri'), ('ngapain', 'sedang apa'), ('ngaruh', 'berpengaruh'), ('ngawur', 'berbicara sembarangan'), ('ngeceng', 'kumpul bareng-bareng'), ('ngeh', 'sadar'), ('ngekos', 'tinggal di kos'), ('ngelamar', 'melamar'), ('ngeliat', 'melihat'), ('ngemeng', 'bicara terus-terusan'), ('ngerti', 'mengerti'), ('nggak', 'tidak'), ('ngikut', 'ikut'), ('nginep', 'menginap'), ('ngisi', 'mengisi'), ('ngmg', 'bicara'), ('ngocol', 'lucu'), ('ngomongin', 'membicarakan'), ('ngumpul', 'berkumpul'), ('ni', 'ini'), ('nyasar', 'tersesat'), ('nyariin', 'mencari'), ('nyiapin', 'mempersiapkan'), ('nyiram', 'menyiram'), ('nyok', 'ayo'), ('o/', 'oleh'), ('ok', 'ok'), ('priksa', 'periksa'), ('pro', 'profesional'), ('psn', 'pesan'), ('psti', 'pasti'), ('puanas', 'panas'), ('qmo', 'kamu'), ('qt', 'kita'), ('rame', 'ramai'), ('raskin', 'rakyat miskin'), ('red', 'redaksi'), ('reg', 'register'), ('rejeki', 'rezeki'), ('renstra', 'rencana strategis'), ('reskrim', 'reserse kriminal'), ('sni', 'sini'), ('somse', 'sombong sekali'), ('sorry', 'maaf'), ('sosbud', 'sosial-budaya'), ('sospol', 'sosial-politik'), ('sowry', 'maaf'), ('spd', 'sepeda'), ('sprti', 'seperti'), ('spy', 'supaya'), ('stelah', 'setelah'), ('subbag', 'subbagian'), ('sumbangin', 'sumbangkan'), ('sy', 'saya'), ('syp', 'siapa'), ('tabanas', 'tabungan pembangunan nasional'), ('tar', 'nanti'), ('taun', 'tahun'), ('tawh', 'tahu'), ('tdi', 'tadi'), ('te2p', 'tetap'), ('tekor', 'rugi'), ('telkom', 'telekomunikasi'), ('telp', 'telepon'), ('temen2', 'teman-teman'), ('tengok', 'menjenguk'), ('terbitin', 'terbitkan'), ('tgl', 'tanggal'), ('thanks', 'terima kasih'), ('thd', 'terhadap'), ('thx', 'terima kasih'), ('tipi', 'TV'), ('tkg', 'tukang'), ('tll', 'terlalu'), ('tlpn', 'telepon'), ('tman', 'teman'), ('tmbh', 'tambah'), ('tmn2', 'teman-teman'), ('tmph', 'tumpah'), ('tnda', 'tanda'), ('tnh', 'tanah'), ('togel', 'toto gelap'), ('tp', 'tapi'), ('tq', 'terima kasih'), ('trgntg', 'tergantung'), ('trims', 'terima kasih'), ('cb', 'coba'), ('y', 'ya'), ('munfik', 'munafik'), ('reklamuk', 'reklamasi'), ('sma', 'sama'), ('tren', 'trend'), ('ngehe', 'kesal'), ('mz', 'mas'), ('analisise', 'analisis'), ('sadaar', 'sadar'), ('sept', 'september'), ('nmenarik', 'menarik'), ('zonk', 'bodoh'), ('rights', 'benar'), ('simiskin', 'miskin'), ('ngumpet', 'sembunyi'), ('hardcore', 'keras'), ('akhirx', 'akhirnya'), ('solve', 'solusi'), ('watuk', 'batuk'), ('ngebully', 'intimidasi'), ('masy', 'masyarakat'), ('still', 'masih'), ('tauk', 'tahu'), ('mbual', 'bual'), ('tioghoa', 'tionghoa'), ('ngentotin', 'senggama'), ('kentot', 'senggama'), ('faktakta', 'fakta'), ('sohib', 'teman'), ('rubahnn', 'rubah'), ('trlalu', 'terlalu'), ('nyela', 'cela'), ('heters', 'pembenci'), ('nyembah', 'sembah'), ('most', 'paling'), ('ikon', 'lambang'), ('light', 'terang'), ('pndukung', 'pendukung'), ('setting', 'atur'), ('seting', 'akting'), ('next', 'lanjut'), ('waspadalah', 'waspada'), ('gantengsaya', 'ganteng'), ('parte', 'partai'), ('nyerang', 'serang'), ('nipu', 'tipu'), ('ktipu', 'tipu'), ('jentelmen', 'berani'), ('buangbuang', 'buang'), ('tsangka', 'tersangka'), ('kurng', 'kurang'), ('ista', 'nista'), ('less', 'kurang'), ('koar', 'teriak'), ('paranoid', 'takut'), ('problem', 'masalah'), ('tahi', 'kotoran'), ('tirani', 'tiran'), ('tilep', 'tilap'), ('happy', 'bahagia'), ('tak', 'tidak'), ('penertiban', 'tertib'), ('uasai', 'kuasa'), ('mnolak', 'tolak'), ('trending', 'trend'), ('taik', 'tahi'), ('wkwkkw', 'tertawa'), ('ahokncc', 'ahok'), ('istaa', 'nista'), ('benarjujur', 'jujur'), ('mgkin', 'mungkin')])"
            ]
          },
          "metadata": {},
          "execution_count": 55
        }
      ]
    },
    {
      "cell_type": "code",
      "source": [
        "slang_df = pd.DataFrame(dict_slang.items(), columns=['Old', 'New'])\n",
        "slang_df.head()"
      ],
      "metadata": {
        "colab": {
          "base_uri": "https://localhost:8080/",
          "height": 206
        },
        "id": "xbm7L0afWUwf",
        "outputId": "0eaca400-beb1-4880-db5c-a3afd3a69f18"
      },
      "execution_count": 56,
      "outputs": [
        {
          "output_type": "execute_result",
          "data": {
            "text/plain": [
              "     Old               New\n",
              "0      @                di\n",
              "1   abis             habis\n",
              "2     ad               ada\n",
              "3   adlh            adalah\n",
              "4  afaik  as far as i know"
            ],
            "text/html": [
              "\n",
              "  <div id=\"df-06d19115-9911-4d1a-9bea-c94ef8d561e7\">\n",
              "    <div class=\"colab-df-container\">\n",
              "      <div>\n",
              "<style scoped>\n",
              "    .dataframe tbody tr th:only-of-type {\n",
              "        vertical-align: middle;\n",
              "    }\n",
              "\n",
              "    .dataframe tbody tr th {\n",
              "        vertical-align: top;\n",
              "    }\n",
              "\n",
              "    .dataframe thead th {\n",
              "        text-align: right;\n",
              "    }\n",
              "</style>\n",
              "<table border=\"1\" class=\"dataframe\">\n",
              "  <thead>\n",
              "    <tr style=\"text-align: right;\">\n",
              "      <th></th>\n",
              "      <th>Old</th>\n",
              "      <th>New</th>\n",
              "    </tr>\n",
              "  </thead>\n",
              "  <tbody>\n",
              "    <tr>\n",
              "      <th>0</th>\n",
              "      <td>@</td>\n",
              "      <td>di</td>\n",
              "    </tr>\n",
              "    <tr>\n",
              "      <th>1</th>\n",
              "      <td>abis</td>\n",
              "      <td>habis</td>\n",
              "    </tr>\n",
              "    <tr>\n",
              "      <th>2</th>\n",
              "      <td>ad</td>\n",
              "      <td>ada</td>\n",
              "    </tr>\n",
              "    <tr>\n",
              "      <th>3</th>\n",
              "      <td>adlh</td>\n",
              "      <td>adalah</td>\n",
              "    </tr>\n",
              "    <tr>\n",
              "      <th>4</th>\n",
              "      <td>afaik</td>\n",
              "      <td>as far as i know</td>\n",
              "    </tr>\n",
              "  </tbody>\n",
              "</table>\n",
              "</div>\n",
              "      <button class=\"colab-df-convert\" onclick=\"convertToInteractive('df-06d19115-9911-4d1a-9bea-c94ef8d561e7')\"\n",
              "              title=\"Convert this dataframe to an interactive table.\"\n",
              "              style=\"display:none;\">\n",
              "        \n",
              "  <svg xmlns=\"http://www.w3.org/2000/svg\" height=\"24px\"viewBox=\"0 0 24 24\"\n",
              "       width=\"24px\">\n",
              "    <path d=\"M0 0h24v24H0V0z\" fill=\"none\"/>\n",
              "    <path d=\"M18.56 5.44l.94 2.06.94-2.06 2.06-.94-2.06-.94-.94-2.06-.94 2.06-2.06.94zm-11 1L8.5 8.5l.94-2.06 2.06-.94-2.06-.94L8.5 2.5l-.94 2.06-2.06.94zm10 10l.94 2.06.94-2.06 2.06-.94-2.06-.94-.94-2.06-.94 2.06-2.06.94z\"/><path d=\"M17.41 7.96l-1.37-1.37c-.4-.4-.92-.59-1.43-.59-.52 0-1.04.2-1.43.59L10.3 9.45l-7.72 7.72c-.78.78-.78 2.05 0 2.83L4 21.41c.39.39.9.59 1.41.59.51 0 1.02-.2 1.41-.59l7.78-7.78 2.81-2.81c.8-.78.8-2.07 0-2.86zM5.41 20L4 18.59l7.72-7.72 1.47 1.35L5.41 20z\"/>\n",
              "  </svg>\n",
              "      </button>\n",
              "      \n",
              "  <style>\n",
              "    .colab-df-container {\n",
              "      display:flex;\n",
              "      flex-wrap:wrap;\n",
              "      gap: 12px;\n",
              "    }\n",
              "\n",
              "    .colab-df-convert {\n",
              "      background-color: #E8F0FE;\n",
              "      border: none;\n",
              "      border-radius: 50%;\n",
              "      cursor: pointer;\n",
              "      display: none;\n",
              "      fill: #1967D2;\n",
              "      height: 32px;\n",
              "      padding: 0 0 0 0;\n",
              "      width: 32px;\n",
              "    }\n",
              "\n",
              "    .colab-df-convert:hover {\n",
              "      background-color: #E2EBFA;\n",
              "      box-shadow: 0px 1px 2px rgba(60, 64, 67, 0.3), 0px 1px 3px 1px rgba(60, 64, 67, 0.15);\n",
              "      fill: #174EA6;\n",
              "    }\n",
              "\n",
              "    [theme=dark] .colab-df-convert {\n",
              "      background-color: #3B4455;\n",
              "      fill: #D2E3FC;\n",
              "    }\n",
              "\n",
              "    [theme=dark] .colab-df-convert:hover {\n",
              "      background-color: #434B5C;\n",
              "      box-shadow: 0px 1px 3px 1px rgba(0, 0, 0, 0.15);\n",
              "      filter: drop-shadow(0px 1px 2px rgba(0, 0, 0, 0.3));\n",
              "      fill: #FFFFFF;\n",
              "    }\n",
              "  </style>\n",
              "\n",
              "      <script>\n",
              "        const buttonEl =\n",
              "          document.querySelector('#df-06d19115-9911-4d1a-9bea-c94ef8d561e7 button.colab-df-convert');\n",
              "        buttonEl.style.display =\n",
              "          google.colab.kernel.accessAllowed ? 'block' : 'none';\n",
              "\n",
              "        async function convertToInteractive(key) {\n",
              "          const element = document.querySelector('#df-06d19115-9911-4d1a-9bea-c94ef8d561e7');\n",
              "          const dataTable =\n",
              "            await google.colab.kernel.invokeFunction('convertToInteractive',\n",
              "                                                     [key], {});\n",
              "          if (!dataTable) return;\n",
              "\n",
              "          const docLinkHtml = 'Like what you see? Visit the ' +\n",
              "            '<a target=\"_blank\" href=https://colab.research.google.com/notebooks/data_table.ipynb>data table notebook</a>'\n",
              "            + ' to learn more about interactive tables.';\n",
              "          element.innerHTML = '';\n",
              "          dataTable['output_type'] = 'display_data';\n",
              "          await google.colab.output.renderOutput(dataTable, element);\n",
              "          const docLink = document.createElement('div');\n",
              "          docLink.innerHTML = docLinkHtml;\n",
              "          element.appendChild(docLink);\n",
              "        }\n",
              "      </script>\n",
              "    </div>\n",
              "  </div>\n",
              "  "
            ]
          },
          "metadata": {},
          "execution_count": 56
        }
      ]
    },
    {
      "cell_type": "code",
      "source": [
        "slang_df['Old'] = slang_df['Old'].apply(lambda x: x.strip())\n",
        "slang_df['New'] = slang_df['New'].apply(lambda x: x.strip())"
      ],
      "metadata": {
        "id": "5XDaI-bdV29P"
      },
      "execution_count": 57,
      "outputs": []
    },
    {
      "cell_type": "code",
      "source": [
        "slang_dict = {}\n",
        "for i, row in slang_df.iterrows():\n",
        "  slang_dict.update({row['Old']: row['New']})"
      ],
      "metadata": {
        "id": "B4Eodpm_WYKJ"
      },
      "execution_count": 58,
      "outputs": []
    },
    {
      "cell_type": "code",
      "source": [
        "def removeSlang(data):\n",
        "  for i, word in enumerate(data):\n",
        "    # check if data in slang dictionary or not\n",
        "    try:\n",
        "      data[i] = slang_dict[word]\n",
        "    # if data is not slang then pass\n",
        "    except KeyError:\n",
        "      pass\n",
        "  return data"
      ],
      "metadata": {
        "id": "SJ9xesVHWa5_"
      },
      "execution_count": 59,
      "outputs": []
    },
    {
      "cell_type": "code",
      "source": [
        "df['Tweet'] = df['Tweet'].apply(removeSlang)\n",
        "df.head()"
      ],
      "metadata": {
        "colab": {
          "base_uri": "https://localhost:8080/",
          "height": 206
        },
        "id": "fCbfWmymWd85",
        "outputId": "5ef16c39-f013-4802-e7e2-f95ca71b927b"
      },
      "execution_count": 60,
      "outputs": [
        {
          "output_type": "execute_result",
          "data": {
            "text/plain": [
              "    Label                                              Tweet\n",
              "0  Non_HS  [fadli, zon, minta, mendagri, segera, nonaktif...\n",
              "1  Non_HS  [mereka, terus, luka, aksi, dalam, rangka, pen...\n",
              "2  Non_HS  [sylvi, bagaimana, gurbernur, laku, keras, per...\n",
              "3  Non_HS  [ahmad, dhani, tidak, puas, debat, pemilihan k...\n",
              "4  Non_HS  [waspada, ktp, palsu, kawal, pemilihan kepala ..."
            ],
            "text/html": [
              "\n",
              "  <div id=\"df-88729163-bf0d-4d50-bf7e-3146dea90adf\">\n",
              "    <div class=\"colab-df-container\">\n",
              "      <div>\n",
              "<style scoped>\n",
              "    .dataframe tbody tr th:only-of-type {\n",
              "        vertical-align: middle;\n",
              "    }\n",
              "\n",
              "    .dataframe tbody tr th {\n",
              "        vertical-align: top;\n",
              "    }\n",
              "\n",
              "    .dataframe thead th {\n",
              "        text-align: right;\n",
              "    }\n",
              "</style>\n",
              "<table border=\"1\" class=\"dataframe\">\n",
              "  <thead>\n",
              "    <tr style=\"text-align: right;\">\n",
              "      <th></th>\n",
              "      <th>Label</th>\n",
              "      <th>Tweet</th>\n",
              "    </tr>\n",
              "  </thead>\n",
              "  <tbody>\n",
              "    <tr>\n",
              "      <th>0</th>\n",
              "      <td>Non_HS</td>\n",
              "      <td>[fadli, zon, minta, mendagri, segera, nonaktif...</td>\n",
              "    </tr>\n",
              "    <tr>\n",
              "      <th>1</th>\n",
              "      <td>Non_HS</td>\n",
              "      <td>[mereka, terus, luka, aksi, dalam, rangka, pen...</td>\n",
              "    </tr>\n",
              "    <tr>\n",
              "      <th>2</th>\n",
              "      <td>Non_HS</td>\n",
              "      <td>[sylvi, bagaimana, gurbernur, laku, keras, per...</td>\n",
              "    </tr>\n",
              "    <tr>\n",
              "      <th>3</th>\n",
              "      <td>Non_HS</td>\n",
              "      <td>[ahmad, dhani, tidak, puas, debat, pemilihan k...</td>\n",
              "    </tr>\n",
              "    <tr>\n",
              "      <th>4</th>\n",
              "      <td>Non_HS</td>\n",
              "      <td>[waspada, ktp, palsu, kawal, pemilihan kepala ...</td>\n",
              "    </tr>\n",
              "  </tbody>\n",
              "</table>\n",
              "</div>\n",
              "      <button class=\"colab-df-convert\" onclick=\"convertToInteractive('df-88729163-bf0d-4d50-bf7e-3146dea90adf')\"\n",
              "              title=\"Convert this dataframe to an interactive table.\"\n",
              "              style=\"display:none;\">\n",
              "        \n",
              "  <svg xmlns=\"http://www.w3.org/2000/svg\" height=\"24px\"viewBox=\"0 0 24 24\"\n",
              "       width=\"24px\">\n",
              "    <path d=\"M0 0h24v24H0V0z\" fill=\"none\"/>\n",
              "    <path d=\"M18.56 5.44l.94 2.06.94-2.06 2.06-.94-2.06-.94-.94-2.06-.94 2.06-2.06.94zm-11 1L8.5 8.5l.94-2.06 2.06-.94-2.06-.94L8.5 2.5l-.94 2.06-2.06.94zm10 10l.94 2.06.94-2.06 2.06-.94-2.06-.94-.94-2.06-.94 2.06-2.06.94z\"/><path d=\"M17.41 7.96l-1.37-1.37c-.4-.4-.92-.59-1.43-.59-.52 0-1.04.2-1.43.59L10.3 9.45l-7.72 7.72c-.78.78-.78 2.05 0 2.83L4 21.41c.39.39.9.59 1.41.59.51 0 1.02-.2 1.41-.59l7.78-7.78 2.81-2.81c.8-.78.8-2.07 0-2.86zM5.41 20L4 18.59l7.72-7.72 1.47 1.35L5.41 20z\"/>\n",
              "  </svg>\n",
              "      </button>\n",
              "      \n",
              "  <style>\n",
              "    .colab-df-container {\n",
              "      display:flex;\n",
              "      flex-wrap:wrap;\n",
              "      gap: 12px;\n",
              "    }\n",
              "\n",
              "    .colab-df-convert {\n",
              "      background-color: #E8F0FE;\n",
              "      border: none;\n",
              "      border-radius: 50%;\n",
              "      cursor: pointer;\n",
              "      display: none;\n",
              "      fill: #1967D2;\n",
              "      height: 32px;\n",
              "      padding: 0 0 0 0;\n",
              "      width: 32px;\n",
              "    }\n",
              "\n",
              "    .colab-df-convert:hover {\n",
              "      background-color: #E2EBFA;\n",
              "      box-shadow: 0px 1px 2px rgba(60, 64, 67, 0.3), 0px 1px 3px 1px rgba(60, 64, 67, 0.15);\n",
              "      fill: #174EA6;\n",
              "    }\n",
              "\n",
              "    [theme=dark] .colab-df-convert {\n",
              "      background-color: #3B4455;\n",
              "      fill: #D2E3FC;\n",
              "    }\n",
              "\n",
              "    [theme=dark] .colab-df-convert:hover {\n",
              "      background-color: #434B5C;\n",
              "      box-shadow: 0px 1px 3px 1px rgba(0, 0, 0, 0.15);\n",
              "      filter: drop-shadow(0px 1px 2px rgba(0, 0, 0, 0.3));\n",
              "      fill: #FFFFFF;\n",
              "    }\n",
              "  </style>\n",
              "\n",
              "      <script>\n",
              "        const buttonEl =\n",
              "          document.querySelector('#df-88729163-bf0d-4d50-bf7e-3146dea90adf button.colab-df-convert');\n",
              "        buttonEl.style.display =\n",
              "          google.colab.kernel.accessAllowed ? 'block' : 'none';\n",
              "\n",
              "        async function convertToInteractive(key) {\n",
              "          const element = document.querySelector('#df-88729163-bf0d-4d50-bf7e-3146dea90adf');\n",
              "          const dataTable =\n",
              "            await google.colab.kernel.invokeFunction('convertToInteractive',\n",
              "                                                     [key], {});\n",
              "          if (!dataTable) return;\n",
              "\n",
              "          const docLinkHtml = 'Like what you see? Visit the ' +\n",
              "            '<a target=\"_blank\" href=https://colab.research.google.com/notebooks/data_table.ipynb>data table notebook</a>'\n",
              "            + ' to learn more about interactive tables.';\n",
              "          element.innerHTML = '';\n",
              "          dataTable['output_type'] = 'display_data';\n",
              "          await google.colab.output.renderOutput(dataTable, element);\n",
              "          const docLink = document.createElement('div');\n",
              "          docLink.innerHTML = docLinkHtml;\n",
              "          element.appendChild(docLink);\n",
              "        }\n",
              "      </script>\n",
              "    </div>\n",
              "  </div>\n",
              "  "
            ]
          },
          "metadata": {},
          "execution_count": 60
        }
      ]
    },
    {
      "cell_type": "markdown",
      "source": [
        "# Stop Words Removal"
      ],
      "metadata": {
        "id": "yykBE80MWnwU"
      }
    },
    {
      "cell_type": "code",
      "source": [
        "nltk.download('stopwords')\n",
        "from nltk.corpus import stopwords\n",
        "\n",
        "def removeStopWords(data):\n",
        "  stop_words = set(stopwords.words('indonesian'))\n",
        "  return data.apply(lambda x: [item for item in x if item not in stop_words])"
      ],
      "metadata": {
        "colab": {
          "base_uri": "https://localhost:8080/"
        },
        "id": "aFJWe3qjWpsM",
        "outputId": "e1ef4d0f-64ca-4393-f768-00f1a12bdc84"
      },
      "execution_count": 61,
      "outputs": [
        {
          "output_type": "stream",
          "name": "stderr",
          "text": [
            "[nltk_data] Downloading package stopwords to /root/nltk_data...\n",
            "[nltk_data]   Package stopwords is already up-to-date!\n"
          ]
        }
      ]
    },
    {
      "cell_type": "code",
      "source": [
        "df['Tweet']=removeStopWords(df['Tweet'])\n",
        "df.head()"
      ],
      "metadata": {
        "colab": {
          "base_uri": "https://localhost:8080/",
          "height": 206
        },
        "id": "Tf9bw5RyWvMQ",
        "outputId": "08f58caa-b16c-4533-e88e-6b0356028c74"
      },
      "execution_count": 62,
      "outputs": [
        {
          "output_type": "execute_result",
          "data": {
            "text/plain": [
              "    Label                                              Tweet\n",
              "0  Non_HS  [fadli, zon, mendagri, nonaktif, ahok, gubernu...\n",
              "1  Non_HS  [luka, aksi, rangka, penjara, ahok, ahok, gaga...\n",
              "2  Non_HS  [sylvi, gurbernur, laku, keras, perempuan, buk...\n",
              "3  Non_HS  [ahmad, dhani, puas, debat, pemilihan kepala d...\n",
              "4  Non_HS  [waspada, ktp, palsu, kawal, pemilihan kepala ..."
            ],
            "text/html": [
              "\n",
              "  <div id=\"df-75d84e67-584a-404f-9af5-fe48aea82d76\">\n",
              "    <div class=\"colab-df-container\">\n",
              "      <div>\n",
              "<style scoped>\n",
              "    .dataframe tbody tr th:only-of-type {\n",
              "        vertical-align: middle;\n",
              "    }\n",
              "\n",
              "    .dataframe tbody tr th {\n",
              "        vertical-align: top;\n",
              "    }\n",
              "\n",
              "    .dataframe thead th {\n",
              "        text-align: right;\n",
              "    }\n",
              "</style>\n",
              "<table border=\"1\" class=\"dataframe\">\n",
              "  <thead>\n",
              "    <tr style=\"text-align: right;\">\n",
              "      <th></th>\n",
              "      <th>Label</th>\n",
              "      <th>Tweet</th>\n",
              "    </tr>\n",
              "  </thead>\n",
              "  <tbody>\n",
              "    <tr>\n",
              "      <th>0</th>\n",
              "      <td>Non_HS</td>\n",
              "      <td>[fadli, zon, mendagri, nonaktif, ahok, gubernu...</td>\n",
              "    </tr>\n",
              "    <tr>\n",
              "      <th>1</th>\n",
              "      <td>Non_HS</td>\n",
              "      <td>[luka, aksi, rangka, penjara, ahok, ahok, gaga...</td>\n",
              "    </tr>\n",
              "    <tr>\n",
              "      <th>2</th>\n",
              "      <td>Non_HS</td>\n",
              "      <td>[sylvi, gurbernur, laku, keras, perempuan, buk...</td>\n",
              "    </tr>\n",
              "    <tr>\n",
              "      <th>3</th>\n",
              "      <td>Non_HS</td>\n",
              "      <td>[ahmad, dhani, puas, debat, pemilihan kepala d...</td>\n",
              "    </tr>\n",
              "    <tr>\n",
              "      <th>4</th>\n",
              "      <td>Non_HS</td>\n",
              "      <td>[waspada, ktp, palsu, kawal, pemilihan kepala ...</td>\n",
              "    </tr>\n",
              "  </tbody>\n",
              "</table>\n",
              "</div>\n",
              "      <button class=\"colab-df-convert\" onclick=\"convertToInteractive('df-75d84e67-584a-404f-9af5-fe48aea82d76')\"\n",
              "              title=\"Convert this dataframe to an interactive table.\"\n",
              "              style=\"display:none;\">\n",
              "        \n",
              "  <svg xmlns=\"http://www.w3.org/2000/svg\" height=\"24px\"viewBox=\"0 0 24 24\"\n",
              "       width=\"24px\">\n",
              "    <path d=\"M0 0h24v24H0V0z\" fill=\"none\"/>\n",
              "    <path d=\"M18.56 5.44l.94 2.06.94-2.06 2.06-.94-2.06-.94-.94-2.06-.94 2.06-2.06.94zm-11 1L8.5 8.5l.94-2.06 2.06-.94-2.06-.94L8.5 2.5l-.94 2.06-2.06.94zm10 10l.94 2.06.94-2.06 2.06-.94-2.06-.94-.94-2.06-.94 2.06-2.06.94z\"/><path d=\"M17.41 7.96l-1.37-1.37c-.4-.4-.92-.59-1.43-.59-.52 0-1.04.2-1.43.59L10.3 9.45l-7.72 7.72c-.78.78-.78 2.05 0 2.83L4 21.41c.39.39.9.59 1.41.59.51 0 1.02-.2 1.41-.59l7.78-7.78 2.81-2.81c.8-.78.8-2.07 0-2.86zM5.41 20L4 18.59l7.72-7.72 1.47 1.35L5.41 20z\"/>\n",
              "  </svg>\n",
              "      </button>\n",
              "      \n",
              "  <style>\n",
              "    .colab-df-container {\n",
              "      display:flex;\n",
              "      flex-wrap:wrap;\n",
              "      gap: 12px;\n",
              "    }\n",
              "\n",
              "    .colab-df-convert {\n",
              "      background-color: #E8F0FE;\n",
              "      border: none;\n",
              "      border-radius: 50%;\n",
              "      cursor: pointer;\n",
              "      display: none;\n",
              "      fill: #1967D2;\n",
              "      height: 32px;\n",
              "      padding: 0 0 0 0;\n",
              "      width: 32px;\n",
              "    }\n",
              "\n",
              "    .colab-df-convert:hover {\n",
              "      background-color: #E2EBFA;\n",
              "      box-shadow: 0px 1px 2px rgba(60, 64, 67, 0.3), 0px 1px 3px 1px rgba(60, 64, 67, 0.15);\n",
              "      fill: #174EA6;\n",
              "    }\n",
              "\n",
              "    [theme=dark] .colab-df-convert {\n",
              "      background-color: #3B4455;\n",
              "      fill: #D2E3FC;\n",
              "    }\n",
              "\n",
              "    [theme=dark] .colab-df-convert:hover {\n",
              "      background-color: #434B5C;\n",
              "      box-shadow: 0px 1px 3px 1px rgba(0, 0, 0, 0.15);\n",
              "      filter: drop-shadow(0px 1px 2px rgba(0, 0, 0, 0.3));\n",
              "      fill: #FFFFFF;\n",
              "    }\n",
              "  </style>\n",
              "\n",
              "      <script>\n",
              "        const buttonEl =\n",
              "          document.querySelector('#df-75d84e67-584a-404f-9af5-fe48aea82d76 button.colab-df-convert');\n",
              "        buttonEl.style.display =\n",
              "          google.colab.kernel.accessAllowed ? 'block' : 'none';\n",
              "\n",
              "        async function convertToInteractive(key) {\n",
              "          const element = document.querySelector('#df-75d84e67-584a-404f-9af5-fe48aea82d76');\n",
              "          const dataTable =\n",
              "            await google.colab.kernel.invokeFunction('convertToInteractive',\n",
              "                                                     [key], {});\n",
              "          if (!dataTable) return;\n",
              "\n",
              "          const docLinkHtml = 'Like what you see? Visit the ' +\n",
              "            '<a target=\"_blank\" href=https://colab.research.google.com/notebooks/data_table.ipynb>data table notebook</a>'\n",
              "            + ' to learn more about interactive tables.';\n",
              "          element.innerHTML = '';\n",
              "          dataTable['output_type'] = 'display_data';\n",
              "          await google.colab.output.renderOutput(dataTable, element);\n",
              "          const docLink = document.createElement('div');\n",
              "          docLink.innerHTML = docLinkHtml;\n",
              "          element.appendChild(docLink);\n",
              "        }\n",
              "      </script>\n",
              "    </div>\n",
              "  </div>\n",
              "  "
            ]
          },
          "metadata": {},
          "execution_count": 62
        }
      ]
    },
    {
      "cell_type": "markdown",
      "source": [
        "## Finalisasi"
      ],
      "metadata": {
        "id": "HwG0pn43XVU6"
      }
    },
    {
      "cell_type": "markdown",
      "source": [
        "Ubah target (Label) Value"
      ],
      "metadata": {
        "id": "jRrF8ICTXH_a"
      }
    },
    {
      "cell_type": "code",
      "source": [
        "df['Label'] = df['Label'].apply(lambda x: 1 if x == 'HS' else 0)\n",
        "df.head()"
      ],
      "metadata": {
        "colab": {
          "base_uri": "https://localhost:8080/",
          "height": 206
        },
        "id": "JrRDSV4BXG1e",
        "outputId": "26acd2f8-d052-4c25-be3a-ebda851e63a3"
      },
      "execution_count": 63,
      "outputs": [
        {
          "output_type": "execute_result",
          "data": {
            "text/plain": [
              "   Label                                              Tweet\n",
              "0      0  [fadli, zon, mendagri, nonaktif, ahok, gubernu...\n",
              "1      0  [luka, aksi, rangka, penjara, ahok, ahok, gaga...\n",
              "2      0  [sylvi, gurbernur, laku, keras, perempuan, buk...\n",
              "3      0  [ahmad, dhani, puas, debat, pemilihan kepala d...\n",
              "4      0  [waspada, ktp, palsu, kawal, pemilihan kepala ..."
            ],
            "text/html": [
              "\n",
              "  <div id=\"df-6afe8f4c-0441-4096-9eaa-0623204b36e8\">\n",
              "    <div class=\"colab-df-container\">\n",
              "      <div>\n",
              "<style scoped>\n",
              "    .dataframe tbody tr th:only-of-type {\n",
              "        vertical-align: middle;\n",
              "    }\n",
              "\n",
              "    .dataframe tbody tr th {\n",
              "        vertical-align: top;\n",
              "    }\n",
              "\n",
              "    .dataframe thead th {\n",
              "        text-align: right;\n",
              "    }\n",
              "</style>\n",
              "<table border=\"1\" class=\"dataframe\">\n",
              "  <thead>\n",
              "    <tr style=\"text-align: right;\">\n",
              "      <th></th>\n",
              "      <th>Label</th>\n",
              "      <th>Tweet</th>\n",
              "    </tr>\n",
              "  </thead>\n",
              "  <tbody>\n",
              "    <tr>\n",
              "      <th>0</th>\n",
              "      <td>0</td>\n",
              "      <td>[fadli, zon, mendagri, nonaktif, ahok, gubernu...</td>\n",
              "    </tr>\n",
              "    <tr>\n",
              "      <th>1</th>\n",
              "      <td>0</td>\n",
              "      <td>[luka, aksi, rangka, penjara, ahok, ahok, gaga...</td>\n",
              "    </tr>\n",
              "    <tr>\n",
              "      <th>2</th>\n",
              "      <td>0</td>\n",
              "      <td>[sylvi, gurbernur, laku, keras, perempuan, buk...</td>\n",
              "    </tr>\n",
              "    <tr>\n",
              "      <th>3</th>\n",
              "      <td>0</td>\n",
              "      <td>[ahmad, dhani, puas, debat, pemilihan kepala d...</td>\n",
              "    </tr>\n",
              "    <tr>\n",
              "      <th>4</th>\n",
              "      <td>0</td>\n",
              "      <td>[waspada, ktp, palsu, kawal, pemilihan kepala ...</td>\n",
              "    </tr>\n",
              "  </tbody>\n",
              "</table>\n",
              "</div>\n",
              "      <button class=\"colab-df-convert\" onclick=\"convertToInteractive('df-6afe8f4c-0441-4096-9eaa-0623204b36e8')\"\n",
              "              title=\"Convert this dataframe to an interactive table.\"\n",
              "              style=\"display:none;\">\n",
              "        \n",
              "  <svg xmlns=\"http://www.w3.org/2000/svg\" height=\"24px\"viewBox=\"0 0 24 24\"\n",
              "       width=\"24px\">\n",
              "    <path d=\"M0 0h24v24H0V0z\" fill=\"none\"/>\n",
              "    <path d=\"M18.56 5.44l.94 2.06.94-2.06 2.06-.94-2.06-.94-.94-2.06-.94 2.06-2.06.94zm-11 1L8.5 8.5l.94-2.06 2.06-.94-2.06-.94L8.5 2.5l-.94 2.06-2.06.94zm10 10l.94 2.06.94-2.06 2.06-.94-2.06-.94-.94-2.06-.94 2.06-2.06.94z\"/><path d=\"M17.41 7.96l-1.37-1.37c-.4-.4-.92-.59-1.43-.59-.52 0-1.04.2-1.43.59L10.3 9.45l-7.72 7.72c-.78.78-.78 2.05 0 2.83L4 21.41c.39.39.9.59 1.41.59.51 0 1.02-.2 1.41-.59l7.78-7.78 2.81-2.81c.8-.78.8-2.07 0-2.86zM5.41 20L4 18.59l7.72-7.72 1.47 1.35L5.41 20z\"/>\n",
              "  </svg>\n",
              "      </button>\n",
              "      \n",
              "  <style>\n",
              "    .colab-df-container {\n",
              "      display:flex;\n",
              "      flex-wrap:wrap;\n",
              "      gap: 12px;\n",
              "    }\n",
              "\n",
              "    .colab-df-convert {\n",
              "      background-color: #E8F0FE;\n",
              "      border: none;\n",
              "      border-radius: 50%;\n",
              "      cursor: pointer;\n",
              "      display: none;\n",
              "      fill: #1967D2;\n",
              "      height: 32px;\n",
              "      padding: 0 0 0 0;\n",
              "      width: 32px;\n",
              "    }\n",
              "\n",
              "    .colab-df-convert:hover {\n",
              "      background-color: #E2EBFA;\n",
              "      box-shadow: 0px 1px 2px rgba(60, 64, 67, 0.3), 0px 1px 3px 1px rgba(60, 64, 67, 0.15);\n",
              "      fill: #174EA6;\n",
              "    }\n",
              "\n",
              "    [theme=dark] .colab-df-convert {\n",
              "      background-color: #3B4455;\n",
              "      fill: #D2E3FC;\n",
              "    }\n",
              "\n",
              "    [theme=dark] .colab-df-convert:hover {\n",
              "      background-color: #434B5C;\n",
              "      box-shadow: 0px 1px 3px 1px rgba(0, 0, 0, 0.15);\n",
              "      filter: drop-shadow(0px 1px 2px rgba(0, 0, 0, 0.3));\n",
              "      fill: #FFFFFF;\n",
              "    }\n",
              "  </style>\n",
              "\n",
              "      <script>\n",
              "        const buttonEl =\n",
              "          document.querySelector('#df-6afe8f4c-0441-4096-9eaa-0623204b36e8 button.colab-df-convert');\n",
              "        buttonEl.style.display =\n",
              "          google.colab.kernel.accessAllowed ? 'block' : 'none';\n",
              "\n",
              "        async function convertToInteractive(key) {\n",
              "          const element = document.querySelector('#df-6afe8f4c-0441-4096-9eaa-0623204b36e8');\n",
              "          const dataTable =\n",
              "            await google.colab.kernel.invokeFunction('convertToInteractive',\n",
              "                                                     [key], {});\n",
              "          if (!dataTable) return;\n",
              "\n",
              "          const docLinkHtml = 'Like what you see? Visit the ' +\n",
              "            '<a target=\"_blank\" href=https://colab.research.google.com/notebooks/data_table.ipynb>data table notebook</a>'\n",
              "            + ' to learn more about interactive tables.';\n",
              "          element.innerHTML = '';\n",
              "          dataTable['output_type'] = 'display_data';\n",
              "          await google.colab.output.renderOutput(dataTable, element);\n",
              "          const docLink = document.createElement('div');\n",
              "          docLink.innerHTML = docLinkHtml;\n",
              "          element.appendChild(docLink);\n",
              "        }\n",
              "      </script>\n",
              "    </div>\n",
              "  </div>\n",
              "  "
            ]
          },
          "metadata": {},
          "execution_count": 63
        }
      ]
    },
    {
      "cell_type": "markdown",
      "source": [
        "Kombinasi menjadi data dalam satu string"
      ],
      "metadata": {
        "id": "nF3-Lg0yXY3D"
      }
    },
    {
      "cell_type": "code",
      "source": [
        "df['Tweet'] = df['Tweet'].apply(lambda x: ' '.join(x))\n",
        "df.head()"
      ],
      "metadata": {
        "colab": {
          "base_uri": "https://localhost:8080/",
          "height": 206
        },
        "id": "j4Ppyy8IXryv",
        "outputId": "3e9488ef-c240-42f2-e121-c9d749429054"
      },
      "execution_count": 64,
      "outputs": [
        {
          "output_type": "execute_result",
          "data": {
            "text/plain": [
              "   Label                                              Tweet\n",
              "0      0      fadli zon mendagri nonaktif ahok gubernur dki\n",
              "1      0  luka aksi rangka penjara ahok ahok gagal pemil...\n",
              "2      0  sylvi gurbernur laku keras perempuan bukti fot...\n",
              "3      0  ahmad dhani puas debat pemilihan kepala daerah...\n",
              "4      0    waspada ktp palsu kawal pemilihan kepala daerah"
            ],
            "text/html": [
              "\n",
              "  <div id=\"df-51ca676b-3b2d-451f-9bfe-a5674fb40b97\">\n",
              "    <div class=\"colab-df-container\">\n",
              "      <div>\n",
              "<style scoped>\n",
              "    .dataframe tbody tr th:only-of-type {\n",
              "        vertical-align: middle;\n",
              "    }\n",
              "\n",
              "    .dataframe tbody tr th {\n",
              "        vertical-align: top;\n",
              "    }\n",
              "\n",
              "    .dataframe thead th {\n",
              "        text-align: right;\n",
              "    }\n",
              "</style>\n",
              "<table border=\"1\" class=\"dataframe\">\n",
              "  <thead>\n",
              "    <tr style=\"text-align: right;\">\n",
              "      <th></th>\n",
              "      <th>Label</th>\n",
              "      <th>Tweet</th>\n",
              "    </tr>\n",
              "  </thead>\n",
              "  <tbody>\n",
              "    <tr>\n",
              "      <th>0</th>\n",
              "      <td>0</td>\n",
              "      <td>fadli zon mendagri nonaktif ahok gubernur dki</td>\n",
              "    </tr>\n",
              "    <tr>\n",
              "      <th>1</th>\n",
              "      <td>0</td>\n",
              "      <td>luka aksi rangka penjara ahok ahok gagal pemil...</td>\n",
              "    </tr>\n",
              "    <tr>\n",
              "      <th>2</th>\n",
              "      <td>0</td>\n",
              "      <td>sylvi gurbernur laku keras perempuan bukti fot...</td>\n",
              "    </tr>\n",
              "    <tr>\n",
              "      <th>3</th>\n",
              "      <td>0</td>\n",
              "      <td>ahmad dhani puas debat pemilihan kepala daerah...</td>\n",
              "    </tr>\n",
              "    <tr>\n",
              "      <th>4</th>\n",
              "      <td>0</td>\n",
              "      <td>waspada ktp palsu kawal pemilihan kepala daerah</td>\n",
              "    </tr>\n",
              "  </tbody>\n",
              "</table>\n",
              "</div>\n",
              "      <button class=\"colab-df-convert\" onclick=\"convertToInteractive('df-51ca676b-3b2d-451f-9bfe-a5674fb40b97')\"\n",
              "              title=\"Convert this dataframe to an interactive table.\"\n",
              "              style=\"display:none;\">\n",
              "        \n",
              "  <svg xmlns=\"http://www.w3.org/2000/svg\" height=\"24px\"viewBox=\"0 0 24 24\"\n",
              "       width=\"24px\">\n",
              "    <path d=\"M0 0h24v24H0V0z\" fill=\"none\"/>\n",
              "    <path d=\"M18.56 5.44l.94 2.06.94-2.06 2.06-.94-2.06-.94-.94-2.06-.94 2.06-2.06.94zm-11 1L8.5 8.5l.94-2.06 2.06-.94-2.06-.94L8.5 2.5l-.94 2.06-2.06.94zm10 10l.94 2.06.94-2.06 2.06-.94-2.06-.94-.94-2.06-.94 2.06-2.06.94z\"/><path d=\"M17.41 7.96l-1.37-1.37c-.4-.4-.92-.59-1.43-.59-.52 0-1.04.2-1.43.59L10.3 9.45l-7.72 7.72c-.78.78-.78 2.05 0 2.83L4 21.41c.39.39.9.59 1.41.59.51 0 1.02-.2 1.41-.59l7.78-7.78 2.81-2.81c.8-.78.8-2.07 0-2.86zM5.41 20L4 18.59l7.72-7.72 1.47 1.35L5.41 20z\"/>\n",
              "  </svg>\n",
              "      </button>\n",
              "      \n",
              "  <style>\n",
              "    .colab-df-container {\n",
              "      display:flex;\n",
              "      flex-wrap:wrap;\n",
              "      gap: 12px;\n",
              "    }\n",
              "\n",
              "    .colab-df-convert {\n",
              "      background-color: #E8F0FE;\n",
              "      border: none;\n",
              "      border-radius: 50%;\n",
              "      cursor: pointer;\n",
              "      display: none;\n",
              "      fill: #1967D2;\n",
              "      height: 32px;\n",
              "      padding: 0 0 0 0;\n",
              "      width: 32px;\n",
              "    }\n",
              "\n",
              "    .colab-df-convert:hover {\n",
              "      background-color: #E2EBFA;\n",
              "      box-shadow: 0px 1px 2px rgba(60, 64, 67, 0.3), 0px 1px 3px 1px rgba(60, 64, 67, 0.15);\n",
              "      fill: #174EA6;\n",
              "    }\n",
              "\n",
              "    [theme=dark] .colab-df-convert {\n",
              "      background-color: #3B4455;\n",
              "      fill: #D2E3FC;\n",
              "    }\n",
              "\n",
              "    [theme=dark] .colab-df-convert:hover {\n",
              "      background-color: #434B5C;\n",
              "      box-shadow: 0px 1px 3px 1px rgba(0, 0, 0, 0.15);\n",
              "      filter: drop-shadow(0px 1px 2px rgba(0, 0, 0, 0.3));\n",
              "      fill: #FFFFFF;\n",
              "    }\n",
              "  </style>\n",
              "\n",
              "      <script>\n",
              "        const buttonEl =\n",
              "          document.querySelector('#df-51ca676b-3b2d-451f-9bfe-a5674fb40b97 button.colab-df-convert');\n",
              "        buttonEl.style.display =\n",
              "          google.colab.kernel.accessAllowed ? 'block' : 'none';\n",
              "\n",
              "        async function convertToInteractive(key) {\n",
              "          const element = document.querySelector('#df-51ca676b-3b2d-451f-9bfe-a5674fb40b97');\n",
              "          const dataTable =\n",
              "            await google.colab.kernel.invokeFunction('convertToInteractive',\n",
              "                                                     [key], {});\n",
              "          if (!dataTable) return;\n",
              "\n",
              "          const docLinkHtml = 'Like what you see? Visit the ' +\n",
              "            '<a target=\"_blank\" href=https://colab.research.google.com/notebooks/data_table.ipynb>data table notebook</a>'\n",
              "            + ' to learn more about interactive tables.';\n",
              "          element.innerHTML = '';\n",
              "          dataTable['output_type'] = 'display_data';\n",
              "          await google.colab.output.renderOutput(dataTable, element);\n",
              "          const docLink = document.createElement('div');\n",
              "          docLink.innerHTML = docLinkHtml;\n",
              "          element.appendChild(docLink);\n",
              "        }\n",
              "      </script>\n",
              "    </div>\n",
              "  </div>\n",
              "  "
            ]
          },
          "metadata": {},
          "execution_count": 64
        }
      ]
    },
    {
      "cell_type": "markdown",
      "source": [
        "# Word Cloud"
      ],
      "metadata": {
        "id": "ZPRDdd8BbZyf"
      }
    },
    {
      "cell_type": "code",
      "source": [
        "from wordcloud import WordCloud, STOPWORDS, ImageColorGenerator\n",
        "from PIL import Image\n",
        "\n",
        "import matplotlib.pyplot as plt\n",
        "\n",
        "fig, axs = plt.subplots(1,2 , figsize=(16,8))\n",
        "text_pos = \" \".join(df['Tweet'][df.Label == 0])\n",
        "text_neg = \" \".join(df['Tweet'][df.Label == 1])\n",
        "train_cloud_pos = WordCloud(collocations = False, background_color = 'white').generate(text_pos)\n",
        "train_cloud_neg = WordCloud(collocations = False, background_color = 'black').generate(text_neg)\n",
        "axs[0].imshow(train_cloud_pos, interpolation='bilinear')\n",
        "axs[0].axis('off')\n",
        "axs[0].set_title('Komentar Bukan Ujaran Kebencian')\n",
        "axs[1].imshow(train_cloud_neg, interpolation='bilinear')\n",
        "axs[1].axis('off')\n",
        "axs[1].set_title('Komentar Ujaran Kebencian')\n",
        "plt.show()"
      ],
      "metadata": {
        "colab": {
          "base_uri": "https://localhost:8080/",
          "height": 250
        },
        "id": "MXyC-sk-bdPa",
        "outputId": "b94b7459-c2d6-4afb-e8a1-0366bb9fdc49"
      },
      "execution_count": 69,
      "outputs": [
        {
          "output_type": "display_data",
          "data": {
            "text/plain": [
              "<Figure size 1152x576 with 2 Axes>"
            ],
            "image/png": "[encoded data removed]"
          },
          "metadata": {}
        }
      ]
    },
    {
      "cell_type": "markdown",
      "source": [
        "# Text Vectorization (TF-IDF)"
      ],
      "metadata": {
        "id": "QPfm_esFYqP8"
      }
    },
    {
      "cell_type": "code",
      "source": [
        "from sklearn.feature_extraction.text import TfidfVectorizer\n",
        "\n",
        "X = df['Tweet']\n",
        "label = df['Label']"
      ],
      "metadata": {
        "id": "vZdJgddMX1IG"
      },
      "execution_count": 65,
      "outputs": []
    },
    {
      "cell_type": "code",
      "source": [
        "tfidf_vectorizer = TfidfVectorizer()\n",
        "tfidf_vector = tfidf_vectorizer.fit_transform(X)\n",
        "tfidf_vector.shape"
      ],
      "metadata": {
        "colab": {
          "base_uri": "https://localhost:8080/"
        },
        "id": "gDK6hAkIZFgM",
        "outputId": "b1c66996-14b3-4269-9ab1-b5e60adb9383"
      },
      "execution_count": 66,
      "outputs": [
        {
          "output_type": "execute_result",
          "data": {
            "text/plain": [
              "(713, 1951)"
            ]
          },
          "metadata": {},
          "execution_count": 66
        }
      ]
    },
    {
      "cell_type": "markdown",
      "source": [
        "# Balanced Dataset"
      ],
      "metadata": {
        "id": "-gvev32HZId9"
      }
    },
    {
      "cell_type": "code",
      "source": [
        "from imblearn.over_sampling import SMOTE\n",
        "\n",
        "sampler = SMOTE()\n",
        "tfidf_vector, label = sampler.fit_resample(tfidf_vector, label)\n",
        "print(tfidf_vector.shape)\n",
        "print(label.shape)"
      ],
      "metadata": {
        "colab": {
          "base_uri": "https://localhost:8080/"
        },
        "id": "bI34qJBlaGqL",
        "outputId": "0e36d84c-153f-4367-ca9f-ea7a73b5c0fc"
      },
      "execution_count": 70,
      "outputs": [
        {
          "output_type": "stream",
          "name": "stdout",
          "text": [
            "(906, 1951)\n",
            "(906,)\n"
          ]
        }
      ]
    },
    {
      "cell_type": "markdown",
      "source": [
        "# Split Data\n",
        "Membagi data menjadi dua bagian, untuk data training dan data testing.\n",
        "pendistribusian data untuk data testing sebesar 20%"
      ],
      "metadata": {
        "id": "dyk2hGeMaO-o"
      }
    },
    {
      "cell_type": "code",
      "source": [
        "from sklearn.model_selection import train_test_split\n",
        "\n",
        "X_train, X_test, y_train, y_test = train_test_split(tfidf_vector, label, test_size=0.2, shuffle=True, random_state=42)\n",
        "\n",
        "# Hasil dari pembagian dataset\n",
        "kalkulasi_train = y_train.value_counts()\n",
        "kalkulasi_test = y_test.value_counts()\n",
        "print(\"Total data latih : \\n\", kalkulasi_train)\n",
        "print(\"Total data tes : \\n\", kalkulasi_test)"
      ],
      "metadata": {
        "colab": {
          "base_uri": "https://localhost:8080/"
        },
        "id": "qHOd3037aOmt",
        "outputId": "42a498dd-76c7-4584-8df3-6980086c5f0f"
      },
      "execution_count": 72,
      "outputs": [
        {
          "output_type": "stream",
          "name": "stdout",
          "text": [
            "Total data latih : \n",
            " 1    369\n",
            "0    355\n",
            "Name: Label, dtype: int64\n",
            "Total data tes : \n",
            " 0    98\n",
            "1    84\n",
            "Name: Label, dtype: int64\n"
          ]
        }
      ]
    },
    {
      "cell_type": "markdown",
      "source": [
        "# Membuat Model Backpropagation Neural Network"
      ],
      "metadata": {
        "id": "oLWpM2ncbTJ3"
      }
    },
    {
      "cell_type": "code",
      "source": [
        "from sklearn.preprocessing import StandardScaler\n",
        "\n",
        "sc = StandardScaler(with_mean=False)\n",
        "X_train = sc.fit_transform(X_train).toarray()\n",
        "X_test = sc.fit_transform(X_test).toarray()"
      ],
      "metadata": {
        "id": "LQ_aPPqabSxX"
      },
      "execution_count": 73,
      "outputs": []
    },
    {
      "cell_type": "code",
      "source": [
        "from keras.models import Sequential\n",
        "from keras import layers\n",
        "from keras.wrappers.scikit_learn import KerasClassifier\n",
        "\n",
        "# Add model for Neural Network\n",
        "input_dim = X_train.shape[1]  # Number of features\n",
        "\n",
        "model = Sequential()\n",
        "model.add(layers.Dense(30, input_dim=input_dim, activation='relu'))\n",
        "model.add(layers.Dense(15, activation='relu'))\n",
        "model.add(layers.Dense(15, activation='relu'))\n",
        "model.add(layers.Dense(15, activation='relu'))\n",
        "model.add(layers.Dense(1, activation='sigmoid'))\n",
        "\n",
        "# Compile model\n",
        "model.compile(loss='binary_crossentropy', optimizer='adam', metrics=['accuracy'])\n",
        "          \n",
        "model.summary()"
      ],
      "metadata": {
        "colab": {
          "base_uri": "https://localhost:8080/"
        },
        "id": "eD0sZY4QcVc6",
        "outputId": "3b87cf1d-98fe-454c-8726-8910c6608907"
      },
      "execution_count": 74,
      "outputs": [
        {
          "output_type": "stream",
          "name": "stdout",
          "text": [
            "Model: \"sequential\"\n",
            "_________________________________________________________________\n",
            " Layer (type)                Output Shape              Param #   \n",
            "=================================================================\n",
            " dense (Dense)               (None, 30)                58560     \n",
            "                                                                 \n",
            " dense_1 (Dense)             (None, 15)                465       \n",
            "                                                                 \n",
            " dense_2 (Dense)             (None, 15)                240       \n",
            "                                                                 \n",
            " dense_3 (Dense)             (None, 15)                240       \n",
            "                                                                 \n",
            " dense_4 (Dense)             (None, 1)                 16        \n",
            "                                                                 \n",
            "=================================================================\n",
            "Total params: 59,521\n",
            "Trainable params: 59,521\n",
            "Non-trainable params: 0\n",
            "_________________________________________________________________\n"
          ]
        }
      ]
    },
    {
      "cell_type": "code",
      "source": [
        "# run model\n",
        "history = model.fit(X_train, y_train, epochs=10, verbose=True, validation_data=(X_test, y_test), batch_size=10)"
      ],
      "metadata": {
        "colab": {
          "base_uri": "https://localhost:8080/"
        },
        "id": "z_aRZCOwcZ9k",
        "outputId": "0f16e1d4-ad93-43aa-ad90-1a10ed2926fb"
      },
      "execution_count": 75,
      "outputs": [
        {
          "output_type": "stream",
          "name": "stdout",
          "text": [
            "Epoch 1/10\n",
            "73/73 [==============================] - 1s 7ms/step - loss: 0.6694 - accuracy: 0.6119 - val_loss: 0.6179 - val_accuracy: 0.7473\n",
            "Epoch 2/10\n",
            "73/73 [==============================] - 0s 4ms/step - loss: 0.3557 - accuracy: 0.9006 - val_loss: 0.4073 - val_accuracy: 0.8077\n",
            "Epoch 3/10\n",
            "73/73 [==============================] - 0s 4ms/step - loss: 0.0798 - accuracy: 0.9738 - val_loss: 0.3390 - val_accuracy: 0.8407\n",
            "Epoch 4/10\n",
            "73/73 [==============================] - 0s 4ms/step - loss: 0.0170 - accuracy: 0.9959 - val_loss: 0.3365 - val_accuracy: 0.8516\n",
            "Epoch 5/10\n",
            "73/73 [==============================] - 0s 4ms/step - loss: 0.0068 - accuracy: 0.9972 - val_loss: 0.3438 - val_accuracy: 0.8626\n",
            "Epoch 6/10\n",
            "73/73 [==============================] - 0s 4ms/step - loss: 0.0026 - accuracy: 1.0000 - val_loss: 0.3415 - val_accuracy: 0.8736\n",
            "Epoch 7/10\n",
            "73/73 [==============================] - 0s 3ms/step - loss: 0.0016 - accuracy: 1.0000 - val_loss: 0.3411 - val_accuracy: 0.8901\n",
            "Epoch 8/10\n",
            "73/73 [==============================] - 0s 3ms/step - loss: 0.0010 - accuracy: 1.0000 - val_loss: 0.3453 - val_accuracy: 0.8901\n",
            "Epoch 9/10\n",
            "73/73 [==============================] - 0s 3ms/step - loss: 6.8469e-04 - accuracy: 1.0000 - val_loss: 0.3517 - val_accuracy: 0.8791\n",
            "Epoch 10/10\n",
            "73/73 [==============================] - 0s 4ms/step - loss: 5.1242e-04 - accuracy: 1.0000 - val_loss: 0.3562 - val_accuracy: 0.8791\n"
          ]
        }
      ]
    },
    {
      "cell_type": "code",
      "source": [
        "# Check the Accuracy\n",
        "loss, accuracy = model.evaluate(X_train, y_train, verbose=False)\n",
        "print(\"Training Accuracy: {:.4f}\".format(accuracy))\n",
        "loss, accuracy = model.evaluate(X_test, y_test, verbose=False)\n",
        "print(\"Testing Accuracy:  {:.4f}\".format(accuracy))"
      ],
      "metadata": {
        "colab": {
          "base_uri": "https://localhost:8080/"
        },
        "id": "HOsUxwtZccTi",
        "outputId": "70a44771-44b9-41e3-cc5a-006885930ee7"
      },
      "execution_count": 76,
      "outputs": [
        {
          "output_type": "stream",
          "name": "stdout",
          "text": [
            "Training Accuracy: 1.0000\n",
            "Testing Accuracy:  0.8791\n"
          ]
        }
      ]
    },
    {
      "cell_type": "code",
      "source": [
        "# Plot accuracy\n",
        "plt.style.use('ggplot')\n",
        "\n",
        "def plot_history(history):\n",
        "    acc = history.history['accuracy']\n",
        "    val_acc = history.history['val_accuracy']\n",
        "    loss = history.history['loss']\n",
        "    val_loss = history.history['val_loss']\n",
        "    x = range(1, len(acc) + 1)\n",
        "\n",
        "    plt.figure(figsize=(12, 5))\n",
        "    plt.subplot(1, 2, 1)\n",
        "    plt.plot(x, acc, 'b', label='Training acc')\n",
        "    plt.plot(x, val_acc, 'r', label='Validation acc')\n",
        "    plt.title('Training and validation accuracy')\n",
        "    plt.legend()\n",
        "    plt.subplot(1, 2, 2)\n",
        "    plt.plot(x, loss, 'b', label='Training loss')\n",
        "    plt.plot(x, val_loss, 'r', label='Validation loss')\n",
        "    plt.title('Training and validation loss')\n",
        "    plt.legend()"
      ],
      "metadata": {
        "id": "hQKKTRYTcrGl"
      },
      "execution_count": 77,
      "outputs": []
    },
    {
      "cell_type": "code",
      "source": [
        "plot_history(history)"
      ],
      "metadata": {
        "colab": {
          "base_uri": "https://localhost:8080/",
          "height": 339
        },
        "id": "x9dJg5QRcuI6",
        "outputId": "6a5788bf-8952-4a10-e103-19384d6144af"
      },
      "execution_count": 78,
      "outputs": [
        {
          "output_type": "display_data",
          "data": {
            "text/plain": [
              "<Figure size 864x360 with 2 Axes>"
            ],
            "image/png": "[encoded data removed]"
          },
          "metadata": {}
        }
      ]
    },
    {
      "cell_type": "code",
      "source": [
        "def prediksi(tweets):\n",
        "  vectorized_tweets = tfidf_vectorizer.transform(tweets).toarray()\n",
        "  input_prediction = model.predict(vectorized_tweets)\n",
        "\n",
        "  print('text :', tweets[0])\n",
        "  if input_prediction[0][0]>=0.65:\n",
        "    print(\"\\nPrediksi : \\nkomentar ujaran kebencian!!!\")\n",
        "  else:\n",
        "    print(\"\\nPrediksi : \\nbukan komentar ujaran kebencian\")"
      ],
      "metadata": {
        "id": "HNvXCAs6ddj1"
      },
      "execution_count": 114,
      "outputs": []
    },
    {
      "cell_type": "code",
      "source": [
        "prediksi([\"Alhamdulilah persib menang hari ini\"])"
      ],
      "metadata": {
        "colab": {
          "base_uri": "https://localhost:8080/"
        },
        "id": "S_TYww7bgkwA",
        "outputId": "ff309e91-3adc-4b16-cccc-9bb754dfd8bc"
      },
      "execution_count": 115,
      "outputs": [
        {
          "output_type": "stream",
          "name": "stdout",
          "text": [
            "1/1 [==============================] - 0s 27ms/step\n",
            "text : Alhamdulilah persib menang hari ini\n",
            "\n",
            "Prediksi : \n",
            "bukan komentar ujaran kebencian\n"
          ]
        }
      ]
    },
    {
      "cell_type": "code",
      "source": [
        "prediksi([\"Messi kafir anjing\"])"
      ],
      "metadata": {
        "colab": {
          "base_uri": "https://localhost:8080/"
        },
        "id": "GypDpOEJgs4G",
        "outputId": "09c16572-672d-4282-f5db-30df54e446ae"
      },
      "execution_count": 116,
      "outputs": [
        {
          "output_type": "stream",
          "name": "stdout",
          "text": [
            "1/1 [==============================] - 0s 18ms/step\n",
            "text : Messi kafir anjing\n",
            "\n",
            "Prediksi : \n",
            "komentar ujaran kebencian!!!\n"
          ]
        }
      ]
    }
  ]
}